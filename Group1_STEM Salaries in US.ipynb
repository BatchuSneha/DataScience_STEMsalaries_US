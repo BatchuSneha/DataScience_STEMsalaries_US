{
 "cells": [
  {
   "cell_type": "code",
   "execution_count": 1,
   "id": "5df51730",
   "metadata": {},
   "outputs": [],
   "source": [
    "# print all the outputs in a cell\n",
    "from IPython.core.interactiveshell import InteractiveShell\n",
    "InteractiveShell.ast_node_interactivity = \"all\""
   ]
  },
  {
   "cell_type": "code",
   "execution_count": 2,
   "id": "26e0dcd0",
   "metadata": {},
   "outputs": [
    {
     "name": "stdout",
     "output_type": "stream",
     "text": [
      "Populating the interactive namespace from numpy and matplotlib\n"
     ]
    }
   ],
   "source": [
    "import pandas as pd\n",
    "import numpy as np\n",
    "import seaborn as sns\n",
    "import matplotlib.pyplot as plt\n",
    "%pylab inline\n",
    "\n",
    "import sklearn as sk\n",
    "import sklearn.tree as tree\n",
    "from IPython.display import Image  \n",
    "import pydotplus"
   ]
  },
  {
   "cell_type": "code",
   "execution_count": 3,
   "id": "411d59a3",
   "metadata": {},
   "outputs": [],
   "source": [
    "df = pd.read_csv('STEM_Salaries.csv')"
   ]
  },
  {
   "cell_type": "code",
   "execution_count": 4,
   "id": "7639d14b",
   "metadata": {},
   "outputs": [],
   "source": [
    "df1 = df.copy()"
   ]
  },
  {
   "cell_type": "markdown",
   "id": "2a4a39f9",
   "metadata": {},
   "source": [
    "# Data Description - Variables in the data and their data types"
   ]
  },
  {
   "cell_type": "markdown",
   "id": "de8c74e9",
   "metadata": {},
   "source": [
    "Our dataset source is Kaggle - Data Science & STEM Salaries(https://www.kaggle.com/jackogozaly/data-science-and-stem-salaries), scraped off from https://www.levels.fyi/, which is a crowdsourcing platform, that has collected the “most accurate public data on salaries, benefits, leveling, and more”, as stated on their website."
   ]
  },
  {
   "cell_type": "code",
   "execution_count": 5,
   "id": "fb2049d4",
   "metadata": {
    "scrolled": true
   },
   "outputs": [
    {
     "name": "stdout",
     "output_type": "stream",
     "text": [
      "<class 'pandas.core.frame.DataFrame'>\n",
      "RangeIndex: 62642 entries, 0 to 62641\n",
      "Data columns (total 19 columns):\n",
      " #   Column                   Non-Null Count  Dtype  \n",
      "---  ------                   --------------  -----  \n",
      " 0   timestamp                62642 non-null  object \n",
      " 1   company                  62637 non-null  object \n",
      " 2   level                    62523 non-null  object \n",
      " 3   title                    62642 non-null  object \n",
      " 4   totalyearlycompensation  62642 non-null  int64  \n",
      " 5   location                 62642 non-null  object \n",
      " 6   yearsofexperience        62642 non-null  float64\n",
      " 7   yearsatcompany           62642 non-null  float64\n",
      " 8   tag                      61788 non-null  object \n",
      " 9   basesalary               62642 non-null  float64\n",
      " 10  stockgrantvalue          62642 non-null  float64\n",
      " 11  bonus                    62642 non-null  float64\n",
      " 12  gender                   43102 non-null  object \n",
      " 13  otherdetails             40137 non-null  object \n",
      " 14  cityid                   62642 non-null  int64  \n",
      " 15  dmaid                    62640 non-null  float64\n",
      " 16  rowNumber                62642 non-null  int64  \n",
      " 17  Race                     22427 non-null  object \n",
      " 18  Education                30370 non-null  object \n",
      "dtypes: float64(6), int64(3), object(10)\n",
      "memory usage: 9.1+ MB\n"
     ]
    }
   ],
   "source": [
    "df1.info()"
   ]
  },
  {
   "cell_type": "markdown",
   "id": "d16d322d",
   "metadata": {},
   "source": [
    "The dataset has 62642 rows, each indicating an employee record. The dataset columns are about demographic, professional and other factors related to each employee. \n",
    "* Demographic factors are Education, Gender, Race and Location [city, state, country]\n",
    "* Professional factors are Current Company, Job Title, Level, Years of Experience, Years at Company, Total Yearly Compensation, Base Salary, Bonus, and Stock Grant\n",
    "* Other columns included Timestamp, rownumber, dmaid,tag (which we later dropped as was not necessary for analysis)."
   ]
  },
  {
   "cell_type": "code",
   "execution_count": 6,
   "id": "aed7ce28",
   "metadata": {},
   "outputs": [
    {
     "data": {
      "text/html": [
       "<div>\n",
       "<style scoped>\n",
       "    .dataframe tbody tr th:only-of-type {\n",
       "        vertical-align: middle;\n",
       "    }\n",
       "\n",
       "    .dataframe tbody tr th {\n",
       "        vertical-align: top;\n",
       "    }\n",
       "\n",
       "    .dataframe thead th {\n",
       "        text-align: right;\n",
       "    }\n",
       "</style>\n",
       "<table border=\"1\" class=\"dataframe\">\n",
       "  <thead>\n",
       "    <tr style=\"text-align: right;\">\n",
       "      <th></th>\n",
       "      <th>timestamp</th>\n",
       "      <th>company</th>\n",
       "      <th>level</th>\n",
       "      <th>title</th>\n",
       "      <th>totalyearlycompensation</th>\n",
       "      <th>location</th>\n",
       "      <th>yearsofexperience</th>\n",
       "      <th>yearsatcompany</th>\n",
       "      <th>tag</th>\n",
       "      <th>basesalary</th>\n",
       "      <th>stockgrantvalue</th>\n",
       "      <th>bonus</th>\n",
       "      <th>gender</th>\n",
       "      <th>otherdetails</th>\n",
       "      <th>cityid</th>\n",
       "      <th>dmaid</th>\n",
       "      <th>rowNumber</th>\n",
       "      <th>Race</th>\n",
       "      <th>Education</th>\n",
       "    </tr>\n",
       "  </thead>\n",
       "  <tbody>\n",
       "    <tr>\n",
       "      <th>count</th>\n",
       "      <td>62642</td>\n",
       "      <td>62637</td>\n",
       "      <td>62523</td>\n",
       "      <td>62642</td>\n",
       "      <td>6.264200e+04</td>\n",
       "      <td>62642</td>\n",
       "      <td>62642.000000</td>\n",
       "      <td>62642.000000</td>\n",
       "      <td>61788</td>\n",
       "      <td>6.264200e+04</td>\n",
       "      <td>6.264200e+04</td>\n",
       "      <td>62642.000000</td>\n",
       "      <td>43102</td>\n",
       "      <td>40137</td>\n",
       "      <td>62642.000000</td>\n",
       "      <td>62640.000000</td>\n",
       "      <td>62642.000000</td>\n",
       "      <td>22427</td>\n",
       "      <td>30370</td>\n",
       "    </tr>\n",
       "    <tr>\n",
       "      <th>unique</th>\n",
       "      <td>62561</td>\n",
       "      <td>1631</td>\n",
       "      <td>2917</td>\n",
       "      <td>15</td>\n",
       "      <td>NaN</td>\n",
       "      <td>1050</td>\n",
       "      <td>NaN</td>\n",
       "      <td>NaN</td>\n",
       "      <td>3058</td>\n",
       "      <td>NaN</td>\n",
       "      <td>NaN</td>\n",
       "      <td>NaN</td>\n",
       "      <td>4</td>\n",
       "      <td>12841</td>\n",
       "      <td>NaN</td>\n",
       "      <td>NaN</td>\n",
       "      <td>NaN</td>\n",
       "      <td>5</td>\n",
       "      <td>5</td>\n",
       "    </tr>\n",
       "    <tr>\n",
       "      <th>top</th>\n",
       "      <td>2/25/2020 13:25:07</td>\n",
       "      <td>Amazon</td>\n",
       "      <td>L4</td>\n",
       "      <td>Software Engineer</td>\n",
       "      <td>NaN</td>\n",
       "      <td>Seattle, WA</td>\n",
       "      <td>NaN</td>\n",
       "      <td>NaN</td>\n",
       "      <td>Full Stack</td>\n",
       "      <td>NaN</td>\n",
       "      <td>NaN</td>\n",
       "      <td>NaN</td>\n",
       "      <td>Male</td>\n",
       "      <td>Masters</td>\n",
       "      <td>NaN</td>\n",
       "      <td>NaN</td>\n",
       "      <td>NaN</td>\n",
       "      <td>Asian</td>\n",
       "      <td>Master's Degree</td>\n",
       "    </tr>\n",
       "    <tr>\n",
       "      <th>freq</th>\n",
       "      <td>3</td>\n",
       "      <td>8126</td>\n",
       "      <td>5014</td>\n",
       "      <td>41231</td>\n",
       "      <td>NaN</td>\n",
       "      <td>8701</td>\n",
       "      <td>NaN</td>\n",
       "      <td>NaN</td>\n",
       "      <td>11382</td>\n",
       "      <td>NaN</td>\n",
       "      <td>NaN</td>\n",
       "      <td>NaN</td>\n",
       "      <td>35702</td>\n",
       "      <td>3983</td>\n",
       "      <td>NaN</td>\n",
       "      <td>NaN</td>\n",
       "      <td>NaN</td>\n",
       "      <td>11772</td>\n",
       "      <td>15391</td>\n",
       "    </tr>\n",
       "    <tr>\n",
       "      <th>mean</th>\n",
       "      <td>NaN</td>\n",
       "      <td>NaN</td>\n",
       "      <td>NaN</td>\n",
       "      <td>NaN</td>\n",
       "      <td>2.163004e+05</td>\n",
       "      <td>NaN</td>\n",
       "      <td>7.204135</td>\n",
       "      <td>2.702093</td>\n",
       "      <td>NaN</td>\n",
       "      <td>1.366873e+05</td>\n",
       "      <td>5.148608e+04</td>\n",
       "      <td>19334.746588</td>\n",
       "      <td>NaN</td>\n",
       "      <td>NaN</td>\n",
       "      <td>9856.201989</td>\n",
       "      <td>616.097222</td>\n",
       "      <td>41694.723732</td>\n",
       "      <td>NaN</td>\n",
       "      <td>NaN</td>\n",
       "    </tr>\n",
       "    <tr>\n",
       "      <th>std</th>\n",
       "      <td>NaN</td>\n",
       "      <td>NaN</td>\n",
       "      <td>NaN</td>\n",
       "      <td>NaN</td>\n",
       "      <td>1.380337e+05</td>\n",
       "      <td>NaN</td>\n",
       "      <td>5.840375</td>\n",
       "      <td>3.263656</td>\n",
       "      <td>NaN</td>\n",
       "      <td>6.136928e+04</td>\n",
       "      <td>8.187457e+04</td>\n",
       "      <td>26781.292040</td>\n",
       "      <td>NaN</td>\n",
       "      <td>NaN</td>\n",
       "      <td>6679.104563</td>\n",
       "      <td>289.843390</td>\n",
       "      <td>24488.865879</td>\n",
       "      <td>NaN</td>\n",
       "      <td>NaN</td>\n",
       "    </tr>\n",
       "    <tr>\n",
       "      <th>min</th>\n",
       "      <td>NaN</td>\n",
       "      <td>NaN</td>\n",
       "      <td>NaN</td>\n",
       "      <td>NaN</td>\n",
       "      <td>1.000000e+04</td>\n",
       "      <td>NaN</td>\n",
       "      <td>0.000000</td>\n",
       "      <td>0.000000</td>\n",
       "      <td>NaN</td>\n",
       "      <td>0.000000e+00</td>\n",
       "      <td>0.000000e+00</td>\n",
       "      <td>0.000000</td>\n",
       "      <td>NaN</td>\n",
       "      <td>NaN</td>\n",
       "      <td>0.000000</td>\n",
       "      <td>0.000000</td>\n",
       "      <td>1.000000</td>\n",
       "      <td>NaN</td>\n",
       "      <td>NaN</td>\n",
       "    </tr>\n",
       "    <tr>\n",
       "      <th>25%</th>\n",
       "      <td>NaN</td>\n",
       "      <td>NaN</td>\n",
       "      <td>NaN</td>\n",
       "      <td>NaN</td>\n",
       "      <td>1.350000e+05</td>\n",
       "      <td>NaN</td>\n",
       "      <td>3.000000</td>\n",
       "      <td>0.000000</td>\n",
       "      <td>NaN</td>\n",
       "      <td>1.080000e+05</td>\n",
       "      <td>0.000000e+00</td>\n",
       "      <td>1000.000000</td>\n",
       "      <td>NaN</td>\n",
       "      <td>NaN</td>\n",
       "      <td>7369.000000</td>\n",
       "      <td>506.000000</td>\n",
       "      <td>20069.250000</td>\n",
       "      <td>NaN</td>\n",
       "      <td>NaN</td>\n",
       "    </tr>\n",
       "    <tr>\n",
       "      <th>50%</th>\n",
       "      <td>NaN</td>\n",
       "      <td>NaN</td>\n",
       "      <td>NaN</td>\n",
       "      <td>NaN</td>\n",
       "      <td>1.880000e+05</td>\n",
       "      <td>NaN</td>\n",
       "      <td>6.000000</td>\n",
       "      <td>2.000000</td>\n",
       "      <td>NaN</td>\n",
       "      <td>1.400000e+05</td>\n",
       "      <td>2.500000e+04</td>\n",
       "      <td>14000.000000</td>\n",
       "      <td>NaN</td>\n",
       "      <td>NaN</td>\n",
       "      <td>7839.000000</td>\n",
       "      <td>807.000000</td>\n",
       "      <td>42019.000000</td>\n",
       "      <td>NaN</td>\n",
       "      <td>NaN</td>\n",
       "    </tr>\n",
       "    <tr>\n",
       "      <th>75%</th>\n",
       "      <td>NaN</td>\n",
       "      <td>NaN</td>\n",
       "      <td>NaN</td>\n",
       "      <td>NaN</td>\n",
       "      <td>2.640000e+05</td>\n",
       "      <td>NaN</td>\n",
       "      <td>10.000000</td>\n",
       "      <td>4.000000</td>\n",
       "      <td>NaN</td>\n",
       "      <td>1.700000e+05</td>\n",
       "      <td>6.500000e+04</td>\n",
       "      <td>26000.000000</td>\n",
       "      <td>NaN</td>\n",
       "      <td>NaN</td>\n",
       "      <td>11521.000000</td>\n",
       "      <td>807.000000</td>\n",
       "      <td>63021.750000</td>\n",
       "      <td>NaN</td>\n",
       "      <td>NaN</td>\n",
       "    </tr>\n",
       "    <tr>\n",
       "      <th>max</th>\n",
       "      <td>NaN</td>\n",
       "      <td>NaN</td>\n",
       "      <td>NaN</td>\n",
       "      <td>NaN</td>\n",
       "      <td>4.980000e+06</td>\n",
       "      <td>NaN</td>\n",
       "      <td>69.000000</td>\n",
       "      <td>69.000000</td>\n",
       "      <td>NaN</td>\n",
       "      <td>1.659870e+06</td>\n",
       "      <td>2.800000e+06</td>\n",
       "      <td>1000000.000000</td>\n",
       "      <td>NaN</td>\n",
       "      <td>NaN</td>\n",
       "      <td>47926.000000</td>\n",
       "      <td>881.000000</td>\n",
       "      <td>83875.000000</td>\n",
       "      <td>NaN</td>\n",
       "      <td>NaN</td>\n",
       "    </tr>\n",
       "  </tbody>\n",
       "</table>\n",
       "</div>"
      ],
      "text/plain": [
       "                 timestamp company  level              title  \\\n",
       "count                62642   62637  62523              62642   \n",
       "unique               62561    1631   2917                 15   \n",
       "top     2/25/2020 13:25:07  Amazon     L4  Software Engineer   \n",
       "freq                     3    8126   5014              41231   \n",
       "mean                   NaN     NaN    NaN                NaN   \n",
       "std                    NaN     NaN    NaN                NaN   \n",
       "min                    NaN     NaN    NaN                NaN   \n",
       "25%                    NaN     NaN    NaN                NaN   \n",
       "50%                    NaN     NaN    NaN                NaN   \n",
       "75%                    NaN     NaN    NaN                NaN   \n",
       "max                    NaN     NaN    NaN                NaN   \n",
       "\n",
       "        totalyearlycompensation     location  yearsofexperience  \\\n",
       "count              6.264200e+04        62642       62642.000000   \n",
       "unique                      NaN         1050                NaN   \n",
       "top                         NaN  Seattle, WA                NaN   \n",
       "freq                        NaN         8701                NaN   \n",
       "mean               2.163004e+05          NaN           7.204135   \n",
       "std                1.380337e+05          NaN           5.840375   \n",
       "min                1.000000e+04          NaN           0.000000   \n",
       "25%                1.350000e+05          NaN           3.000000   \n",
       "50%                1.880000e+05          NaN           6.000000   \n",
       "75%                2.640000e+05          NaN          10.000000   \n",
       "max                4.980000e+06          NaN          69.000000   \n",
       "\n",
       "        yearsatcompany         tag    basesalary  stockgrantvalue  \\\n",
       "count     62642.000000       61788  6.264200e+04     6.264200e+04   \n",
       "unique             NaN        3058           NaN              NaN   \n",
       "top                NaN  Full Stack           NaN              NaN   \n",
       "freq               NaN       11382           NaN              NaN   \n",
       "mean          2.702093         NaN  1.366873e+05     5.148608e+04   \n",
       "std           3.263656         NaN  6.136928e+04     8.187457e+04   \n",
       "min           0.000000         NaN  0.000000e+00     0.000000e+00   \n",
       "25%           0.000000         NaN  1.080000e+05     0.000000e+00   \n",
       "50%           2.000000         NaN  1.400000e+05     2.500000e+04   \n",
       "75%           4.000000         NaN  1.700000e+05     6.500000e+04   \n",
       "max          69.000000         NaN  1.659870e+06     2.800000e+06   \n",
       "\n",
       "                 bonus gender otherdetails        cityid         dmaid  \\\n",
       "count     62642.000000  43102        40137  62642.000000  62640.000000   \n",
       "unique             NaN      4        12841           NaN           NaN   \n",
       "top                NaN   Male      Masters           NaN           NaN   \n",
       "freq               NaN  35702         3983           NaN           NaN   \n",
       "mean      19334.746588    NaN          NaN   9856.201989    616.097222   \n",
       "std       26781.292040    NaN          NaN   6679.104563    289.843390   \n",
       "min           0.000000    NaN          NaN      0.000000      0.000000   \n",
       "25%        1000.000000    NaN          NaN   7369.000000    506.000000   \n",
       "50%       14000.000000    NaN          NaN   7839.000000    807.000000   \n",
       "75%       26000.000000    NaN          NaN  11521.000000    807.000000   \n",
       "max     1000000.000000    NaN          NaN  47926.000000    881.000000   \n",
       "\n",
       "           rowNumber   Race        Education  \n",
       "count   62642.000000  22427            30370  \n",
       "unique           NaN      5                5  \n",
       "top              NaN  Asian  Master's Degree  \n",
       "freq             NaN  11772            15391  \n",
       "mean    41694.723732    NaN              NaN  \n",
       "std     24488.865879    NaN              NaN  \n",
       "min         1.000000    NaN              NaN  \n",
       "25%     20069.250000    NaN              NaN  \n",
       "50%     42019.000000    NaN              NaN  \n",
       "75%     63021.750000    NaN              NaN  \n",
       "max     83875.000000    NaN              NaN  "
      ]
     },
     "execution_count": 6,
     "metadata": {},
     "output_type": "execute_result"
    }
   ],
   "source": [
    "df1.describe(include='all')"
   ]
  },
  {
   "cell_type": "markdown",
   "id": "1f039e8c",
   "metadata": {},
   "source": [
    "## Data Cleaning"
   ]
  },
  {
   "cell_type": "markdown",
   "id": "65a0259b",
   "metadata": {},
   "source": [
    "We dropped the following columns because of the respective reasons:\n",
    "\n",
    "* timestamp - This does not impact our analysis.\n",
    "* tag - The values in tag are better categorized using the values in Title.\n",
    "* dmaid - The values were not meaningful.\n",
    "* rownumber - It's just an additional index for each row and is not required for the analysis.\n",
    "* otherdetails - The values are redundant and reflected in other columns(such as title, race and education)."
   ]
  },
  {
   "cell_type": "code",
   "execution_count": 7,
   "id": "f2f447d9",
   "metadata": {},
   "outputs": [],
   "source": [
    "df1.drop(['dmaid','tag','timestamp','rowNumber','otherdetails'], axis=1,inplace=True)"
   ]
  },
  {
   "cell_type": "code",
   "execution_count": 8,
   "id": "24ac63a4",
   "metadata": {},
   "outputs": [
    {
     "data": {
      "text/plain": [
       "Index(['company', 'level', 'title', 'totalyearlycompensation', 'location',\n",
       "       'yearsofexperience', 'yearsatcompany', 'basesalary', 'stockgrantvalue',\n",
       "       'bonus', 'gender', 'cityid', 'Race', 'Education'],\n",
       "      dtype='object')"
      ]
     },
     "execution_count": 8,
     "metadata": {},
     "output_type": "execute_result"
    }
   ],
   "source": [
    "df1.columns"
   ]
  },
  {
   "cell_type": "markdown",
   "id": "8b854b18",
   "metadata": {},
   "source": [
    "### Gender Column"
   ]
  },
  {
   "cell_type": "code",
   "execution_count": 9,
   "id": "fda5019d",
   "metadata": {},
   "outputs": [
    {
     "data": {
      "text/plain": [
       "array([nan, 'Male', 'Female', 'Other', 'Title: Senior Software Engineer'],\n",
       "      dtype=object)"
      ]
     },
     "execution_count": 9,
     "metadata": {},
     "output_type": "execute_result"
    }
   ],
   "source": [
    "df1.gender.unique()"
   ]
  },
  {
   "cell_type": "markdown",
   "id": "d0922185",
   "metadata": {},
   "source": [
    "Replacing NaN entries and 'Title: Senior Software Engineer' with *Other*."
   ]
  },
  {
   "cell_type": "code",
   "execution_count": 10,
   "id": "86d995c4",
   "metadata": {},
   "outputs": [],
   "source": [
    "df1.gender.fillna('Other',inplace=True)"
   ]
  },
  {
   "cell_type": "code",
   "execution_count": 11,
   "id": "b867daf7",
   "metadata": {},
   "outputs": [],
   "source": [
    "df1.gender.replace('Title: Senior Software Engineer','Other',inplace=True)"
   ]
  },
  {
   "cell_type": "code",
   "execution_count": 12,
   "id": "38f58ba6",
   "metadata": {},
   "outputs": [
    {
     "data": {
      "text/plain": [
       "array(['Other', 'Male', 'Female'], dtype=object)"
      ]
     },
     "execution_count": 12,
     "metadata": {},
     "output_type": "execute_result"
    }
   ],
   "source": [
    "df1.gender.unique()"
   ]
  },
  {
   "cell_type": "markdown",
   "id": "08de0e8a",
   "metadata": {},
   "source": [
    "### Location Column"
   ]
  },
  {
   "cell_type": "code",
   "execution_count": 13,
   "id": "7a3e80e2",
   "metadata": {},
   "outputs": [
    {
     "data": {
      "text/plain": [
       "array(['Redwood City, CA', 'San Francisco, CA', 'Seattle, WA', ...,\n",
       "       'Pasir Ris, SG, Singapore', 'Richmond, VA, United States',\n",
       "       'Hilbert, WI'], dtype=object)"
      ]
     },
     "execution_count": 13,
     "metadata": {},
     "output_type": "execute_result"
    }
   ],
   "source": [
    "df1.location.unique()"
   ]
  },
  {
   "cell_type": "markdown",
   "id": "8558ea7c",
   "metadata": {},
   "source": [
    "Cleaning up location column and deleting data related to other countries, since our focus is on US."
   ]
  },
  {
   "cell_type": "code",
   "execution_count": 14,
   "id": "82995979",
   "metadata": {},
   "outputs": [],
   "source": [
    "#Step 1: Splitting location column to city, state and country\n",
    "df1[['city','state','country','other']] = df1['location'].str.split(',',expand=True)"
   ]
  },
  {
   "cell_type": "code",
   "execution_count": 15,
   "id": "0007d298",
   "metadata": {},
   "outputs": [
    {
     "data": {
      "text/plain": [
       "array([None, ' United Kingdom', ' Ireland', ' India', ' Belarus',\n",
       "       ' Canada', ' Russia', ' Netherlands', ' Switzerland', ' Singapore',\n",
       "       ' Germany', ' Japan', ' Sweden', ' Australia', ' United States',\n",
       "       ' Israel', ' Poland', ' China', ' Austria', ' Luxembourg',\n",
       "       ' Czech Republic', ' France', ' Pakistan', ' New Zealand',\n",
       "       ' Denmark', ' Hong Kong (SAR)', ' South Africa', ' Spain',\n",
       "       ' United Arab Emirates', ' Hungary', ' Brazil', ' Bulgaria',\n",
       "       ' Philippines', ' Indonesia', ' Puerto Rico', ' Taiwan',\n",
       "       ' Romania', ' Mexico', ' Costa Rica', ' Marshall Islands',\n",
       "       ' Vietnam', ' Panama', ' Argentina', ' Norway', ' Moldova',\n",
       "       ' Estonia', ' Kenya', ' Turkey', ' Italy', ' Lithuania',\n",
       "       ' Nigeria', ' Korea', ' Ukraine', ' Jordan', ' Thailand',\n",
       "       ' Colombia', ' Serbia', ' Portugal', ' Guatemala', ' Yugoslavia',\n",
       "       ' Uruguay', ' Slovakia', ' Bangladesh', ' Finland', ' Chile',\n",
       "       ' Malaysia', ' Latvia', ' Saudi Arabia', ' Peru',\n",
       "       ' Netherlands Antilles', ' Belgium', ' Burma', ' Qatar', ' Ghana',\n",
       "       ' Kazakhstan', ' Uzbekistan', ' Armenia', ' Morocco', ' Iraq',\n",
       "       ' Trinidad and Tobago', ' Egypt'], dtype=object)"
      ]
     },
     "execution_count": 15,
     "metadata": {},
     "output_type": "execute_result"
    }
   ],
   "source": [
    "df1.country.unique()"
   ]
  },
  {
   "cell_type": "code",
   "execution_count": 16,
   "id": "f06bd3c9",
   "metadata": {},
   "outputs": [],
   "source": [
    "#Step 2: Since all countries other than United States were mentioned, filling NaN columns with 'United States'\n",
    "df1.country.fillna(\"United States\", inplace=True)"
   ]
  },
  {
   "cell_type": "code",
   "execution_count": 17,
   "id": "9492f233",
   "metadata": {},
   "outputs": [
    {
     "data": {
      "text/html": [
       "<div>\n",
       "<style scoped>\n",
       "    .dataframe tbody tr th:only-of-type {\n",
       "        vertical-align: middle;\n",
       "    }\n",
       "\n",
       "    .dataframe tbody tr th {\n",
       "        vertical-align: top;\n",
       "    }\n",
       "\n",
       "    .dataframe thead th {\n",
       "        text-align: right;\n",
       "    }\n",
       "</style>\n",
       "<table border=\"1\" class=\"dataframe\">\n",
       "  <thead>\n",
       "    <tr style=\"text-align: right;\">\n",
       "      <th></th>\n",
       "      <th>city</th>\n",
       "      <th>state</th>\n",
       "      <th>country</th>\n",
       "      <th>other</th>\n",
       "    </tr>\n",
       "  </thead>\n",
       "  <tbody>\n",
       "    <tr>\n",
       "      <th>0</th>\n",
       "      <td>Redwood City</td>\n",
       "      <td>CA</td>\n",
       "      <td>United States</td>\n",
       "      <td>None</td>\n",
       "    </tr>\n",
       "    <tr>\n",
       "      <th>1</th>\n",
       "      <td>San Francisco</td>\n",
       "      <td>CA</td>\n",
       "      <td>United States</td>\n",
       "      <td>None</td>\n",
       "    </tr>\n",
       "    <tr>\n",
       "      <th>2</th>\n",
       "      <td>Seattle</td>\n",
       "      <td>WA</td>\n",
       "      <td>United States</td>\n",
       "      <td>None</td>\n",
       "    </tr>\n",
       "    <tr>\n",
       "      <th>3</th>\n",
       "      <td>Sunnyvale</td>\n",
       "      <td>CA</td>\n",
       "      <td>United States</td>\n",
       "      <td>None</td>\n",
       "    </tr>\n",
       "    <tr>\n",
       "      <th>4</th>\n",
       "      <td>Mountain View</td>\n",
       "      <td>CA</td>\n",
       "      <td>United States</td>\n",
       "      <td>None</td>\n",
       "    </tr>\n",
       "    <tr>\n",
       "      <th>5</th>\n",
       "      <td>Seattle</td>\n",
       "      <td>WA</td>\n",
       "      <td>United States</td>\n",
       "      <td>None</td>\n",
       "    </tr>\n",
       "    <tr>\n",
       "      <th>6</th>\n",
       "      <td>Redmond</td>\n",
       "      <td>WA</td>\n",
       "      <td>United States</td>\n",
       "      <td>None</td>\n",
       "    </tr>\n",
       "    <tr>\n",
       "      <th>7</th>\n",
       "      <td>Seattle</td>\n",
       "      <td>WA</td>\n",
       "      <td>United States</td>\n",
       "      <td>None</td>\n",
       "    </tr>\n",
       "    <tr>\n",
       "      <th>8</th>\n",
       "      <td>Redmond</td>\n",
       "      <td>WA</td>\n",
       "      <td>United States</td>\n",
       "      <td>None</td>\n",
       "    </tr>\n",
       "    <tr>\n",
       "      <th>9</th>\n",
       "      <td>Seattle</td>\n",
       "      <td>WA</td>\n",
       "      <td>United States</td>\n",
       "      <td>None</td>\n",
       "    </tr>\n",
       "  </tbody>\n",
       "</table>\n",
       "</div>"
      ],
      "text/plain": [
       "            city state        country other\n",
       "0   Redwood City    CA  United States  None\n",
       "1  San Francisco    CA  United States  None\n",
       "2        Seattle    WA  United States  None\n",
       "3      Sunnyvale    CA  United States  None\n",
       "4  Mountain View    CA  United States  None\n",
       "5        Seattle    WA  United States  None\n",
       "6        Redmond    WA  United States  None\n",
       "7        Seattle    WA  United States  None\n",
       "8        Redmond    WA  United States  None\n",
       "9        Seattle    WA  United States  None"
      ]
     },
     "execution_count": 17,
     "metadata": {},
     "output_type": "execute_result"
    }
   ],
   "source": [
    "df1[['city','state','country','other']].head(10)"
   ]
  },
  {
   "cell_type": "code",
   "execution_count": 18,
   "id": "bc2c8b5b",
   "metadata": {},
   "outputs": [
    {
     "data": {
      "text/plain": [
       "array([None, ' South'], dtype=object)"
      ]
     },
     "execution_count": 18,
     "metadata": {},
     "output_type": "execute_result"
    }
   ],
   "source": [
    "df1.other.unique()"
   ]
  },
  {
   "cell_type": "code",
   "execution_count": 19,
   "id": "6719826c",
   "metadata": {},
   "outputs": [],
   "source": [
    "#Step 3: Dropping the 'other' column since it was specific to South Korea\n",
    "df1.drop(['other'],axis=1,inplace=True)"
   ]
  },
  {
   "cell_type": "code",
   "execution_count": 20,
   "id": "054575a5",
   "metadata": {},
   "outputs": [
    {
     "data": {
      "text/plain": [
       "Index(['company', 'level', 'title', 'totalyearlycompensation', 'location',\n",
       "       'yearsofexperience', 'yearsatcompany', 'basesalary', 'stockgrantvalue',\n",
       "       'bonus', 'gender', 'cityid', 'Race', 'Education', 'city', 'state',\n",
       "       'country'],\n",
       "      dtype='object')"
      ]
     },
     "execution_count": 20,
     "metadata": {},
     "output_type": "execute_result"
    }
   ],
   "source": [
    "df1.columns"
   ]
  },
  {
   "cell_type": "code",
   "execution_count": 21,
   "id": "5d641ef0",
   "metadata": {},
   "outputs": [],
   "source": [
    "#Step 4: Filtering out records only related to United States\n",
    "df1.drop(df1[df1.country != 'United States'].index,inplace=True)"
   ]
  },
  {
   "cell_type": "code",
   "execution_count": 22,
   "id": "7f0b6021",
   "metadata": {
    "scrolled": true
   },
   "outputs": [
    {
     "data": {
      "text/plain": [
       "array(['United States'], dtype=object)"
      ]
     },
     "execution_count": 22,
     "metadata": {},
     "output_type": "execute_result"
    }
   ],
   "source": [
    "df1.country.unique()"
   ]
  },
  {
   "cell_type": "markdown",
   "id": "ee2846cb",
   "metadata": {},
   "source": [
    "#### Splitting US states into regions - East Coast, West Coast and Central"
   ]
  },
  {
   "cell_type": "code",
   "execution_count": 23,
   "id": "aa2fe973",
   "metadata": {},
   "outputs": [
    {
     "data": {
      "text/plain": [
       "array([' CA', ' WA', ' NY', ' MD', ' OR', ' DC', ' TX', ' MA', ' LA',\n",
       "       ' PA', ' SC', ' VA', ' CO', ' NE', ' IN', ' WI', ' MN', ' IL',\n",
       "       ' NJ', ' AZ', ' OH', ' NC', ' FL', ' GA', ' MO', ' RI', ' UT',\n",
       "       ' MI', ' CT', ' NM', ' AR', ' VT', ' IA', ' KS', ' NH', ' ID',\n",
       "       ' TN', ' DE', ' AL', ' NV', ' KY', ' Israel', ' WV', ' OK', ' MS',\n",
       "       ' ME', ' MT', ' ND', ' HI', ' WY'], dtype=object)"
      ]
     },
     "execution_count": 23,
     "metadata": {},
     "output_type": "execute_result"
    }
   ],
   "source": [
    "df1.state.unique()"
   ]
  },
  {
   "cell_type": "code",
   "execution_count": 24,
   "id": "592088ff",
   "metadata": {},
   "outputs": [],
   "source": [
    "#Step 5: Deleting the empty space before all the state names.\n",
    "df1[['spachar','state']] = df1['state'].str.split(' ',expand=True)"
   ]
  },
  {
   "cell_type": "code",
   "execution_count": 25,
   "id": "bcb9200b",
   "metadata": {},
   "outputs": [
    {
     "data": {
      "text/plain": [
       "array(['CA', 'WA', 'NY', 'MD', 'OR', 'DC', 'TX', 'MA', 'LA', 'PA', 'SC',\n",
       "       'VA', 'CO', 'NE', 'IN', 'WI', 'MN', 'IL', 'NJ', 'AZ', 'OH', 'NC',\n",
       "       'FL', 'GA', 'MO', 'RI', 'UT', 'MI', 'CT', 'NM', 'AR', 'VT', 'IA',\n",
       "       'KS', 'NH', 'ID', 'TN', 'DE', 'AL', 'NV', 'KY', 'Israel', 'WV',\n",
       "       'OK', 'MS', 'ME', 'MT', 'ND', 'HI', 'WY'], dtype=object)"
      ]
     },
     "execution_count": 25,
     "metadata": {},
     "output_type": "execute_result"
    }
   ],
   "source": [
    "df1.state.unique()"
   ]
  },
  {
   "cell_type": "code",
   "execution_count": 26,
   "id": "d7fcfcf8",
   "metadata": {},
   "outputs": [],
   "source": [
    "#Step 6: Deleting the anomaly record of Israel.\n",
    "df1.drop(df1[df1.state == 'Israel'].index,inplace=True)"
   ]
  },
  {
   "cell_type": "code",
   "execution_count": 27,
   "id": "57acf2a2",
   "metadata": {},
   "outputs": [
    {
     "data": {
      "text/plain": [
       "array(['CA', 'WA', 'NY', 'MD', 'OR', 'DC', 'TX', 'MA', 'LA', 'PA', 'SC',\n",
       "       'VA', 'CO', 'NE', 'IN', 'WI', 'MN', 'IL', 'NJ', 'AZ', 'OH', 'NC',\n",
       "       'FL', 'GA', 'MO', 'RI', 'UT', 'MI', 'CT', 'NM', 'AR', 'VT', 'IA',\n",
       "       'KS', 'NH', 'ID', 'TN', 'DE', 'AL', 'NV', 'KY', 'WV', 'OK', 'MS',\n",
       "       'ME', 'MT', 'ND', 'HI', 'WY'], dtype=object)"
      ]
     },
     "execution_count": 27,
     "metadata": {},
     "output_type": "execute_result"
    },
    {
     "data": {
      "text/plain": [
       "49"
      ]
     },
     "execution_count": 27,
     "metadata": {},
     "output_type": "execute_result"
    }
   ],
   "source": [
    "df1.state.unique()\n",
    "df1.state.nunique()"
   ]
  },
  {
   "cell_type": "markdown",
   "id": "d559d24a",
   "metadata": {},
   "source": [
    "We have data from 49 US states."
   ]
  },
  {
   "cell_type": "code",
   "execution_count": 28,
   "id": "cf62adfd",
   "metadata": {},
   "outputs": [
    {
     "data": {
      "text/plain": [
       "array([''], dtype=object)"
      ]
     },
     "execution_count": 28,
     "metadata": {},
     "output_type": "execute_result"
    }
   ],
   "source": [
    "df1.spachar.unique()"
   ]
  },
  {
   "cell_type": "code",
   "execution_count": 29,
   "id": "a7840eca",
   "metadata": {},
   "outputs": [],
   "source": [
    "#Dropping spachar column\n",
    "df1.drop(['spachar'],axis=1,inplace=True)"
   ]
  },
  {
   "cell_type": "code",
   "execution_count": 30,
   "id": "1f1ac6b8",
   "metadata": {},
   "outputs": [],
   "source": [
    "#Step 7: Creating list of east and west regions\n",
    "east = ['CT','DE','FL','GA','IN','KY','ME','MD','MA','MI','NH','NJ',\\\n",
    "        'NY','NC','OH','PA','RI','SC','TN','VT','VA','WV']\n",
    "west = ['AK','CA','OR','WA','ID','NV']"
   ]
  },
  {
   "cell_type": "code",
   "execution_count": 31,
   "id": "50a6afca",
   "metadata": {},
   "outputs": [],
   "source": [
    "#Step 8: Creating an empty column named region to denote which region the state is located in\n",
    "df1['region'] = None"
   ]
  },
  {
   "cell_type": "code",
   "execution_count": 32,
   "id": "033cba38",
   "metadata": {},
   "outputs": [],
   "source": [
    "def regions(name):\n",
    "    if name in east:\n",
    "        return 'East'\n",
    "    elif name in west:\n",
    "        return 'West'\n",
    "    else:\n",
    "        return 'Central'"
   ]
  },
  {
   "cell_type": "code",
   "execution_count": 33,
   "id": "afd35ef6",
   "metadata": {},
   "outputs": [],
   "source": [
    "df1['region'] = df1['state'].apply(regions)"
   ]
  },
  {
   "cell_type": "code",
   "execution_count": 34,
   "id": "e7ed83fd",
   "metadata": {},
   "outputs": [
    {
     "data": {
      "text/plain": [
       "array(['West', 'East', 'Central'], dtype=object)"
      ]
     },
     "execution_count": 34,
     "metadata": {},
     "output_type": "execute_result"
    }
   ],
   "source": [
    "df1.region.unique()"
   ]
  },
  {
   "cell_type": "code",
   "execution_count": 35,
   "id": "f3bd0142",
   "metadata": {
    "scrolled": true
   },
   "outputs": [
    {
     "data": {
      "text/html": [
       "<div>\n",
       "<style scoped>\n",
       "    .dataframe tbody tr th:only-of-type {\n",
       "        vertical-align: middle;\n",
       "    }\n",
       "\n",
       "    .dataframe tbody tr th {\n",
       "        vertical-align: top;\n",
       "    }\n",
       "\n",
       "    .dataframe thead th {\n",
       "        text-align: right;\n",
       "    }\n",
       "</style>\n",
       "<table border=\"1\" class=\"dataframe\">\n",
       "  <thead>\n",
       "    <tr style=\"text-align: right;\">\n",
       "      <th></th>\n",
       "      <th>company</th>\n",
       "      <th>level</th>\n",
       "      <th>title</th>\n",
       "      <th>totalyearlycompensation</th>\n",
       "      <th>location</th>\n",
       "      <th>yearsofexperience</th>\n",
       "      <th>yearsatcompany</th>\n",
       "      <th>basesalary</th>\n",
       "      <th>stockgrantvalue</th>\n",
       "      <th>bonus</th>\n",
       "      <th>gender</th>\n",
       "      <th>cityid</th>\n",
       "      <th>Race</th>\n",
       "      <th>Education</th>\n",
       "      <th>city</th>\n",
       "      <th>state</th>\n",
       "      <th>country</th>\n",
       "      <th>region</th>\n",
       "    </tr>\n",
       "  </thead>\n",
       "  <tbody>\n",
       "    <tr>\n",
       "      <th>29</th>\n",
       "      <td>Google</td>\n",
       "      <td>T6</td>\n",
       "      <td>Software Engineer</td>\n",
       "      <td>440000</td>\n",
       "      <td>New York, NY</td>\n",
       "      <td>14.0</td>\n",
       "      <td>12.0</td>\n",
       "      <td>0.0</td>\n",
       "      <td>0.0</td>\n",
       "      <td>0.0</td>\n",
       "      <td>Other</td>\n",
       "      <td>10182</td>\n",
       "      <td>NaN</td>\n",
       "      <td>NaN</td>\n",
       "      <td>New York</td>\n",
       "      <td>NY</td>\n",
       "      <td>United States</td>\n",
       "      <td>East</td>\n",
       "    </tr>\n",
       "    <tr>\n",
       "      <th>45</th>\n",
       "      <td>Oath</td>\n",
       "      <td>IC2</td>\n",
       "      <td>Software Engineer</td>\n",
       "      <td>88000</td>\n",
       "      <td>Baltimore, MD</td>\n",
       "      <td>5.0</td>\n",
       "      <td>1.0</td>\n",
       "      <td>0.0</td>\n",
       "      <td>0.0</td>\n",
       "      <td>0.0</td>\n",
       "      <td>Other</td>\n",
       "      <td>8909</td>\n",
       "      <td>NaN</td>\n",
       "      <td>NaN</td>\n",
       "      <td>Baltimore</td>\n",
       "      <td>MD</td>\n",
       "      <td>United States</td>\n",
       "      <td>East</td>\n",
       "    </tr>\n",
       "    <tr>\n",
       "      <th>117</th>\n",
       "      <td>Google</td>\n",
       "      <td>T2</td>\n",
       "      <td>Software Engineer</td>\n",
       "      <td>110000</td>\n",
       "      <td>New York, NY</td>\n",
       "      <td>0.0</td>\n",
       "      <td>0.0</td>\n",
       "      <td>95000.0</td>\n",
       "      <td>0.0</td>\n",
       "      <td>5000.0</td>\n",
       "      <td>Other</td>\n",
       "      <td>10182</td>\n",
       "      <td>NaN</td>\n",
       "      <td>NaN</td>\n",
       "      <td>New York</td>\n",
       "      <td>NY</td>\n",
       "      <td>United States</td>\n",
       "      <td>East</td>\n",
       "    </tr>\n",
       "    <tr>\n",
       "      <th>134</th>\n",
       "      <td>Amazon</td>\n",
       "      <td>L4</td>\n",
       "      <td>Software Engineer</td>\n",
       "      <td>170000</td>\n",
       "      <td>New York, NY</td>\n",
       "      <td>0.0</td>\n",
       "      <td>0.0</td>\n",
       "      <td>125000.0</td>\n",
       "      <td>5000.0</td>\n",
       "      <td>39000.0</td>\n",
       "      <td>Other</td>\n",
       "      <td>10182</td>\n",
       "      <td>NaN</td>\n",
       "      <td>NaN</td>\n",
       "      <td>New York</td>\n",
       "      <td>NY</td>\n",
       "      <td>United States</td>\n",
       "      <td>East</td>\n",
       "    </tr>\n",
       "    <tr>\n",
       "      <th>139</th>\n",
       "      <td>Google</td>\n",
       "      <td>T7</td>\n",
       "      <td>Software Engineer</td>\n",
       "      <td>1120000</td>\n",
       "      <td>New York, NY</td>\n",
       "      <td>10.0</td>\n",
       "      <td>7.0</td>\n",
       "      <td>252000.0</td>\n",
       "      <td>790000.0</td>\n",
       "      <td>78000.0</td>\n",
       "      <td>Other</td>\n",
       "      <td>10182</td>\n",
       "      <td>NaN</td>\n",
       "      <td>NaN</td>\n",
       "      <td>New York</td>\n",
       "      <td>NY</td>\n",
       "      <td>United States</td>\n",
       "      <td>East</td>\n",
       "    </tr>\n",
       "  </tbody>\n",
       "</table>\n",
       "</div>"
      ],
      "text/plain": [
       "    company level              title  totalyearlycompensation       location  \\\n",
       "29   Google    T6  Software Engineer                   440000   New York, NY   \n",
       "45     Oath   IC2  Software Engineer                    88000  Baltimore, MD   \n",
       "117  Google    T2  Software Engineer                   110000   New York, NY   \n",
       "134  Amazon    L4  Software Engineer                   170000   New York, NY   \n",
       "139  Google    T7  Software Engineer                  1120000   New York, NY   \n",
       "\n",
       "     yearsofexperience  yearsatcompany  basesalary  stockgrantvalue    bonus  \\\n",
       "29                14.0            12.0         0.0              0.0      0.0   \n",
       "45                 5.0             1.0         0.0              0.0      0.0   \n",
       "117                0.0             0.0     95000.0              0.0   5000.0   \n",
       "134                0.0             0.0    125000.0           5000.0  39000.0   \n",
       "139               10.0             7.0    252000.0         790000.0  78000.0   \n",
       "\n",
       "    gender  cityid Race Education       city state        country region  \n",
       "29   Other   10182  NaN       NaN   New York    NY  United States   East  \n",
       "45   Other    8909  NaN       NaN  Baltimore    MD  United States   East  \n",
       "117  Other   10182  NaN       NaN   New York    NY  United States   East  \n",
       "134  Other   10182  NaN       NaN   New York    NY  United States   East  \n",
       "139  Other   10182  NaN       NaN   New York    NY  United States   East  "
      ]
     },
     "execution_count": 35,
     "metadata": {},
     "output_type": "execute_result"
    }
   ],
   "source": [
    "df1[df1.region=='East'].head()"
   ]
  },
  {
   "cell_type": "code",
   "execution_count": 36,
   "id": "152820d2",
   "metadata": {
    "scrolled": true
   },
   "outputs": [
    {
     "data": {
      "text/html": [
       "<div>\n",
       "<style scoped>\n",
       "    .dataframe tbody tr th:only-of-type {\n",
       "        vertical-align: middle;\n",
       "    }\n",
       "\n",
       "    .dataframe tbody tr th {\n",
       "        vertical-align: top;\n",
       "    }\n",
       "\n",
       "    .dataframe thead th {\n",
       "        text-align: right;\n",
       "    }\n",
       "</style>\n",
       "<table border=\"1\" class=\"dataframe\">\n",
       "  <thead>\n",
       "    <tr style=\"text-align: right;\">\n",
       "      <th></th>\n",
       "      <th>company</th>\n",
       "      <th>level</th>\n",
       "      <th>title</th>\n",
       "      <th>totalyearlycompensation</th>\n",
       "      <th>location</th>\n",
       "      <th>yearsofexperience</th>\n",
       "      <th>yearsatcompany</th>\n",
       "      <th>basesalary</th>\n",
       "      <th>stockgrantvalue</th>\n",
       "      <th>bonus</th>\n",
       "      <th>gender</th>\n",
       "      <th>cityid</th>\n",
       "      <th>Race</th>\n",
       "      <th>Education</th>\n",
       "      <th>city</th>\n",
       "      <th>state</th>\n",
       "      <th>country</th>\n",
       "      <th>region</th>\n",
       "    </tr>\n",
       "  </thead>\n",
       "  <tbody>\n",
       "    <tr>\n",
       "      <th>0</th>\n",
       "      <td>Oracle</td>\n",
       "      <td>L3</td>\n",
       "      <td>Product Manager</td>\n",
       "      <td>127000</td>\n",
       "      <td>Redwood City, CA</td>\n",
       "      <td>1.5</td>\n",
       "      <td>1.5</td>\n",
       "      <td>107000.0</td>\n",
       "      <td>20000.0</td>\n",
       "      <td>10000.0</td>\n",
       "      <td>Other</td>\n",
       "      <td>7392</td>\n",
       "      <td>NaN</td>\n",
       "      <td>NaN</td>\n",
       "      <td>Redwood City</td>\n",
       "      <td>CA</td>\n",
       "      <td>United States</td>\n",
       "      <td>West</td>\n",
       "    </tr>\n",
       "    <tr>\n",
       "      <th>1</th>\n",
       "      <td>eBay</td>\n",
       "      <td>SE 2</td>\n",
       "      <td>Software Engineer</td>\n",
       "      <td>100000</td>\n",
       "      <td>San Francisco, CA</td>\n",
       "      <td>5.0</td>\n",
       "      <td>3.0</td>\n",
       "      <td>0.0</td>\n",
       "      <td>0.0</td>\n",
       "      <td>0.0</td>\n",
       "      <td>Other</td>\n",
       "      <td>7419</td>\n",
       "      <td>NaN</td>\n",
       "      <td>NaN</td>\n",
       "      <td>San Francisco</td>\n",
       "      <td>CA</td>\n",
       "      <td>United States</td>\n",
       "      <td>West</td>\n",
       "    </tr>\n",
       "    <tr>\n",
       "      <th>2</th>\n",
       "      <td>Amazon</td>\n",
       "      <td>L7</td>\n",
       "      <td>Product Manager</td>\n",
       "      <td>310000</td>\n",
       "      <td>Seattle, WA</td>\n",
       "      <td>8.0</td>\n",
       "      <td>0.0</td>\n",
       "      <td>155000.0</td>\n",
       "      <td>0.0</td>\n",
       "      <td>0.0</td>\n",
       "      <td>Other</td>\n",
       "      <td>11527</td>\n",
       "      <td>NaN</td>\n",
       "      <td>NaN</td>\n",
       "      <td>Seattle</td>\n",
       "      <td>WA</td>\n",
       "      <td>United States</td>\n",
       "      <td>West</td>\n",
       "    </tr>\n",
       "    <tr>\n",
       "      <th>3</th>\n",
       "      <td>Apple</td>\n",
       "      <td>M1</td>\n",
       "      <td>Software Engineering Manager</td>\n",
       "      <td>372000</td>\n",
       "      <td>Sunnyvale, CA</td>\n",
       "      <td>7.0</td>\n",
       "      <td>5.0</td>\n",
       "      <td>157000.0</td>\n",
       "      <td>180000.0</td>\n",
       "      <td>35000.0</td>\n",
       "      <td>Other</td>\n",
       "      <td>7472</td>\n",
       "      <td>NaN</td>\n",
       "      <td>NaN</td>\n",
       "      <td>Sunnyvale</td>\n",
       "      <td>CA</td>\n",
       "      <td>United States</td>\n",
       "      <td>West</td>\n",
       "    </tr>\n",
       "    <tr>\n",
       "      <th>4</th>\n",
       "      <td>Microsoft</td>\n",
       "      <td>60</td>\n",
       "      <td>Software Engineer</td>\n",
       "      <td>157000</td>\n",
       "      <td>Mountain View, CA</td>\n",
       "      <td>5.0</td>\n",
       "      <td>3.0</td>\n",
       "      <td>0.0</td>\n",
       "      <td>0.0</td>\n",
       "      <td>0.0</td>\n",
       "      <td>Other</td>\n",
       "      <td>7322</td>\n",
       "      <td>NaN</td>\n",
       "      <td>NaN</td>\n",
       "      <td>Mountain View</td>\n",
       "      <td>CA</td>\n",
       "      <td>United States</td>\n",
       "      <td>West</td>\n",
       "    </tr>\n",
       "  </tbody>\n",
       "</table>\n",
       "</div>"
      ],
      "text/plain": [
       "     company level                         title  totalyearlycompensation  \\\n",
       "0     Oracle    L3               Product Manager                   127000   \n",
       "1       eBay  SE 2             Software Engineer                   100000   \n",
       "2     Amazon    L7               Product Manager                   310000   \n",
       "3      Apple    M1  Software Engineering Manager                   372000   \n",
       "4  Microsoft    60             Software Engineer                   157000   \n",
       "\n",
       "            location  yearsofexperience  yearsatcompany  basesalary  \\\n",
       "0   Redwood City, CA                1.5             1.5    107000.0   \n",
       "1  San Francisco, CA                5.0             3.0         0.0   \n",
       "2        Seattle, WA                8.0             0.0    155000.0   \n",
       "3      Sunnyvale, CA                7.0             5.0    157000.0   \n",
       "4  Mountain View, CA                5.0             3.0         0.0   \n",
       "\n",
       "   stockgrantvalue    bonus gender  cityid Race Education           city  \\\n",
       "0          20000.0  10000.0  Other    7392  NaN       NaN   Redwood City   \n",
       "1              0.0      0.0  Other    7419  NaN       NaN  San Francisco   \n",
       "2              0.0      0.0  Other   11527  NaN       NaN        Seattle   \n",
       "3         180000.0  35000.0  Other    7472  NaN       NaN      Sunnyvale   \n",
       "4              0.0      0.0  Other    7322  NaN       NaN  Mountain View   \n",
       "\n",
       "  state        country region  \n",
       "0    CA  United States   West  \n",
       "1    CA  United States   West  \n",
       "2    WA  United States   West  \n",
       "3    CA  United States   West  \n",
       "4    CA  United States   West  "
      ]
     },
     "execution_count": 36,
     "metadata": {},
     "output_type": "execute_result"
    }
   ],
   "source": [
    "df1[df1.region=='West'].head()"
   ]
  },
  {
   "cell_type": "code",
   "execution_count": 37,
   "id": "5a933f0c",
   "metadata": {
    "scrolled": true
   },
   "outputs": [
    {
     "data": {
      "text/html": [
       "<div>\n",
       "<style scoped>\n",
       "    .dataframe tbody tr th:only-of-type {\n",
       "        vertical-align: middle;\n",
       "    }\n",
       "\n",
       "    .dataframe tbody tr th {\n",
       "        vertical-align: top;\n",
       "    }\n",
       "\n",
       "    .dataframe thead th {\n",
       "        text-align: right;\n",
       "    }\n",
       "</style>\n",
       "<table border=\"1\" class=\"dataframe\">\n",
       "  <thead>\n",
       "    <tr style=\"text-align: right;\">\n",
       "      <th></th>\n",
       "      <th>company</th>\n",
       "      <th>level</th>\n",
       "      <th>title</th>\n",
       "      <th>totalyearlycompensation</th>\n",
       "      <th>location</th>\n",
       "      <th>yearsofexperience</th>\n",
       "      <th>yearsatcompany</th>\n",
       "      <th>basesalary</th>\n",
       "      <th>stockgrantvalue</th>\n",
       "      <th>bonus</th>\n",
       "      <th>gender</th>\n",
       "      <th>cityid</th>\n",
       "      <th>Race</th>\n",
       "      <th>Education</th>\n",
       "      <th>city</th>\n",
       "      <th>state</th>\n",
       "      <th>country</th>\n",
       "      <th>region</th>\n",
       "    </tr>\n",
       "  </thead>\n",
       "  <tbody>\n",
       "    <tr>\n",
       "      <th>146</th>\n",
       "      <td>Oracle</td>\n",
       "      <td>IC3</td>\n",
       "      <td>Product Manager</td>\n",
       "      <td>150000</td>\n",
       "      <td>Washington, DC</td>\n",
       "      <td>3.0</td>\n",
       "      <td>3.0</td>\n",
       "      <td>107000.0</td>\n",
       "      <td>33000.0</td>\n",
       "      <td>10000.0</td>\n",
       "      <td>Other</td>\n",
       "      <td>40303</td>\n",
       "      <td>NaN</td>\n",
       "      <td>NaN</td>\n",
       "      <td>Washington</td>\n",
       "      <td>DC</td>\n",
       "      <td>United States</td>\n",
       "      <td>Central</td>\n",
       "    </tr>\n",
       "    <tr>\n",
       "      <th>178</th>\n",
       "      <td>IBM</td>\n",
       "      <td>7</td>\n",
       "      <td>Software Engineer</td>\n",
       "      <td>84000</td>\n",
       "      <td>Austin, TX</td>\n",
       "      <td>3.0</td>\n",
       "      <td>3.0</td>\n",
       "      <td>80000.0</td>\n",
       "      <td>100.0</td>\n",
       "      <td>4000.0</td>\n",
       "      <td>Other</td>\n",
       "      <td>10965</td>\n",
       "      <td>NaN</td>\n",
       "      <td>NaN</td>\n",
       "      <td>Austin</td>\n",
       "      <td>TX</td>\n",
       "      <td>United States</td>\n",
       "      <td>Central</td>\n",
       "    </tr>\n",
       "    <tr>\n",
       "      <th>244</th>\n",
       "      <td>GE Digital</td>\n",
       "      <td>Staff</td>\n",
       "      <td>Software Engineer</td>\n",
       "      <td>124000</td>\n",
       "      <td>New Orleans, LA</td>\n",
       "      <td>12.0</td>\n",
       "      <td>2.0</td>\n",
       "      <td>114000.0</td>\n",
       "      <td>0.0</td>\n",
       "      <td>10000.0</td>\n",
       "      <td>Other</td>\n",
       "      <td>8774</td>\n",
       "      <td>NaN</td>\n",
       "      <td>NaN</td>\n",
       "      <td>New Orleans</td>\n",
       "      <td>LA</td>\n",
       "      <td>United States</td>\n",
       "      <td>Central</td>\n",
       "    </tr>\n",
       "    <tr>\n",
       "      <th>354</th>\n",
       "      <td>Microsoft</td>\n",
       "      <td>65</td>\n",
       "      <td>Product Manager</td>\n",
       "      <td>293000</td>\n",
       "      <td>Boulder, CO</td>\n",
       "      <td>16.0</td>\n",
       "      <td>5.0</td>\n",
       "      <td>183000.0</td>\n",
       "      <td>60000.0</td>\n",
       "      <td>50000.0</td>\n",
       "      <td>Male</td>\n",
       "      <td>7534</td>\n",
       "      <td>NaN</td>\n",
       "      <td>NaN</td>\n",
       "      <td>Boulder</td>\n",
       "      <td>CO</td>\n",
       "      <td>United States</td>\n",
       "      <td>Central</td>\n",
       "    </tr>\n",
       "    <tr>\n",
       "      <th>398</th>\n",
       "      <td>Mutual of Omaha</td>\n",
       "      <td>Mid-grade (of Jr, Mid, Sr)</td>\n",
       "      <td>Software Engineer</td>\n",
       "      <td>105000</td>\n",
       "      <td>Omaha, NE</td>\n",
       "      <td>2.0</td>\n",
       "      <td>2.0</td>\n",
       "      <td>93000.0</td>\n",
       "      <td>0.0</td>\n",
       "      <td>12000.0</td>\n",
       "      <td>Male</td>\n",
       "      <td>1265</td>\n",
       "      <td>NaN</td>\n",
       "      <td>NaN</td>\n",
       "      <td>Omaha</td>\n",
       "      <td>NE</td>\n",
       "      <td>United States</td>\n",
       "      <td>Central</td>\n",
       "    </tr>\n",
       "  </tbody>\n",
       "</table>\n",
       "</div>"
      ],
      "text/plain": [
       "             company                       level              title  \\\n",
       "146           Oracle                         IC3    Product Manager   \n",
       "178              IBM                           7  Software Engineer   \n",
       "244       GE Digital                       Staff  Software Engineer   \n",
       "354        Microsoft                          65    Product Manager   \n",
       "398  Mutual of Omaha  Mid-grade (of Jr, Mid, Sr)  Software Engineer   \n",
       "\n",
       "     totalyearlycompensation         location  yearsofexperience  \\\n",
       "146                   150000   Washington, DC                3.0   \n",
       "178                    84000       Austin, TX                3.0   \n",
       "244                   124000  New Orleans, LA               12.0   \n",
       "354                   293000      Boulder, CO               16.0   \n",
       "398                   105000        Omaha, NE                2.0   \n",
       "\n",
       "     yearsatcompany  basesalary  stockgrantvalue    bonus gender  cityid Race  \\\n",
       "146             3.0    107000.0          33000.0  10000.0  Other   40303  NaN   \n",
       "178             3.0     80000.0            100.0   4000.0  Other   10965  NaN   \n",
       "244             2.0    114000.0              0.0  10000.0  Other    8774  NaN   \n",
       "354             5.0    183000.0          60000.0  50000.0   Male    7534  NaN   \n",
       "398             2.0     93000.0              0.0  12000.0   Male    1265  NaN   \n",
       "\n",
       "    Education         city state        country   region  \n",
       "146       NaN   Washington    DC  United States  Central  \n",
       "178       NaN       Austin    TX  United States  Central  \n",
       "244       NaN  New Orleans    LA  United States  Central  \n",
       "354       NaN      Boulder    CO  United States  Central  \n",
       "398       NaN        Omaha    NE  United States  Central  "
      ]
     },
     "execution_count": 37,
     "metadata": {},
     "output_type": "execute_result"
    }
   ],
   "source": [
    "df1[df1.region=='Central'].head()"
   ]
  },
  {
   "cell_type": "code",
   "execution_count": 38,
   "id": "f3fb897f",
   "metadata": {},
   "outputs": [
    {
     "data": {
      "text/plain": [
       "52838"
      ]
     },
     "execution_count": 38,
     "metadata": {},
     "output_type": "execute_result"
    }
   ],
   "source": [
    "len(df1)"
   ]
  },
  {
   "cell_type": "markdown",
   "id": "c7af4dec",
   "metadata": {},
   "source": [
    "After filtering out data for only US records, we have 52838 records left for analysis."
   ]
  },
  {
   "cell_type": "markdown",
   "id": "a80eb9cb",
   "metadata": {},
   "source": [
    "### Work Experience Column"
   ]
  },
  {
   "cell_type": "markdown",
   "id": "5250219f",
   "metadata": {},
   "source": [
    "Creating categories for Years of Experience(WorkEx) and Years at Company(WorkEx_Company)"
   ]
  },
  {
   "cell_type": "code",
   "execution_count": 39,
   "id": "af4dd996",
   "metadata": {},
   "outputs": [],
   "source": [
    "#If years of experience is lesser than years at company, we are replacing it with years at company\n",
    "df1['yearsofexperience'] = np.where(df1['yearsofexperience'] < df1['yearsatcompany'], \\\n",
    "                                   df1['yearsatcompany'], df1['yearsofexperience'])"
   ]
  },
  {
   "cell_type": "code",
   "execution_count": 40,
   "id": "f074d313",
   "metadata": {},
   "outputs": [],
   "source": [
    "df1['WorkEx'] = pd.cut(df1['yearsofexperience'],bins=[0, 1, 6, 11, 16, 21, 31, 41,100]\\\n",
    "                       ,right=False,labels=['0','1-5','6-10', '11-15','16-20','21-30','31-40','>40'])"
   ]
  },
  {
   "cell_type": "code",
   "execution_count": 41,
   "id": "1dfd9756",
   "metadata": {},
   "outputs": [],
   "source": [
    "df1['WorkEx_Company'] = pd.cut(df1['yearsatcompany'],bins=[0, 1, 6, 11, 16, 21, 31, 41,100],\\\n",
    "                               right=False,labels=['0','1-5','6-10', '11-15','16-20','21-30','31-40','>40'])"
   ]
  },
  {
   "cell_type": "code",
   "execution_count": 42,
   "id": "c9b9616b",
   "metadata": {},
   "outputs": [
    {
     "data": {
      "text/html": [
       "<div>\n",
       "<style scoped>\n",
       "    .dataframe tbody tr th:only-of-type {\n",
       "        vertical-align: middle;\n",
       "    }\n",
       "\n",
       "    .dataframe tbody tr th {\n",
       "        vertical-align: top;\n",
       "    }\n",
       "\n",
       "    .dataframe thead th {\n",
       "        text-align: right;\n",
       "    }\n",
       "</style>\n",
       "<table border=\"1\" class=\"dataframe\">\n",
       "  <thead>\n",
       "    <tr style=\"text-align: right;\">\n",
       "      <th></th>\n",
       "      <th>WorkEx</th>\n",
       "    </tr>\n",
       "    <tr>\n",
       "      <th>WorkEx</th>\n",
       "      <th></th>\n",
       "    </tr>\n",
       "  </thead>\n",
       "  <tbody>\n",
       "    <tr>\n",
       "      <th>0</th>\n",
       "      <td>3955</td>\n",
       "    </tr>\n",
       "    <tr>\n",
       "      <th>1-5</th>\n",
       "      <td>21946</td>\n",
       "    </tr>\n",
       "    <tr>\n",
       "      <th>6-10</th>\n",
       "      <td>14714</td>\n",
       "    </tr>\n",
       "    <tr>\n",
       "      <th>11-15</th>\n",
       "      <td>7277</td>\n",
       "    </tr>\n",
       "    <tr>\n",
       "      <th>16-20</th>\n",
       "      <td>3623</td>\n",
       "    </tr>\n",
       "    <tr>\n",
       "      <th>21-30</th>\n",
       "      <td>1229</td>\n",
       "    </tr>\n",
       "    <tr>\n",
       "      <th>31-40</th>\n",
       "      <td>88</td>\n",
       "    </tr>\n",
       "    <tr>\n",
       "      <th>&gt;40</th>\n",
       "      <td>6</td>\n",
       "    </tr>\n",
       "  </tbody>\n",
       "</table>\n",
       "</div>"
      ],
      "text/plain": [
       "        WorkEx\n",
       "WorkEx        \n",
       "0         3955\n",
       "1-5      21946\n",
       "6-10     14714\n",
       "11-15     7277\n",
       "16-20     3623\n",
       "21-30     1229\n",
       "31-40       88\n",
       ">40          6"
      ]
     },
     "execution_count": 42,
     "metadata": {},
     "output_type": "execute_result"
    }
   ],
   "source": [
    "df1.groupby('WorkEx')[['WorkEx']].count()"
   ]
  },
  {
   "cell_type": "code",
   "execution_count": 43,
   "id": "d619b9af",
   "metadata": {},
   "outputs": [
    {
     "data": {
      "text/html": [
       "<div>\n",
       "<style scoped>\n",
       "    .dataframe tbody tr th:only-of-type {\n",
       "        vertical-align: middle;\n",
       "    }\n",
       "\n",
       "    .dataframe tbody tr th {\n",
       "        vertical-align: top;\n",
       "    }\n",
       "\n",
       "    .dataframe thead th {\n",
       "        text-align: right;\n",
       "    }\n",
       "</style>\n",
       "<table border=\"1\" class=\"dataframe\">\n",
       "  <thead>\n",
       "    <tr style=\"text-align: right;\">\n",
       "      <th></th>\n",
       "      <th>WorkEx_Company</th>\n",
       "    </tr>\n",
       "    <tr>\n",
       "      <th>WorkEx_Company</th>\n",
       "      <th></th>\n",
       "    </tr>\n",
       "  </thead>\n",
       "  <tbody>\n",
       "    <tr>\n",
       "      <th>0</th>\n",
       "      <td>13841</td>\n",
       "    </tr>\n",
       "    <tr>\n",
       "      <th>1-5</th>\n",
       "      <td>31788</td>\n",
       "    </tr>\n",
       "    <tr>\n",
       "      <th>6-10</th>\n",
       "      <td>5405</td>\n",
       "    </tr>\n",
       "    <tr>\n",
       "      <th>11-15</th>\n",
       "      <td>1281</td>\n",
       "    </tr>\n",
       "    <tr>\n",
       "      <th>16-20</th>\n",
       "      <td>401</td>\n",
       "    </tr>\n",
       "    <tr>\n",
       "      <th>21-30</th>\n",
       "      <td>115</td>\n",
       "    </tr>\n",
       "    <tr>\n",
       "      <th>31-40</th>\n",
       "      <td>6</td>\n",
       "    </tr>\n",
       "    <tr>\n",
       "      <th>&gt;40</th>\n",
       "      <td>1</td>\n",
       "    </tr>\n",
       "  </tbody>\n",
       "</table>\n",
       "</div>"
      ],
      "text/plain": [
       "                WorkEx_Company\n",
       "WorkEx_Company                \n",
       "0                        13841\n",
       "1-5                      31788\n",
       "6-10                      5405\n",
       "11-15                     1281\n",
       "16-20                      401\n",
       "21-30                      115\n",
       "31-40                        6\n",
       ">40                          1"
      ]
     },
     "execution_count": 43,
     "metadata": {},
     "output_type": "execute_result"
    }
   ],
   "source": [
    "df1.groupby('WorkEx_Company')[['WorkEx_Company']].count()"
   ]
  },
  {
   "cell_type": "markdown",
   "id": "8128069a",
   "metadata": {},
   "source": [
    "### Salary Data - TotalYearlyCompensation , Basesalary , Bonus, Stockgrantvalue"
   ]
  },
  {
   "cell_type": "code",
   "execution_count": 44,
   "id": "57571407",
   "metadata": {},
   "outputs": [],
   "source": [
    "#Replacing the null values with the average Salary\n",
    "df1.basesalary.replace(0,df1.basesalary.mean(),inplace=True)"
   ]
  },
  {
   "cell_type": "code",
   "execution_count": 45,
   "id": "b8ebbf8e",
   "metadata": {},
   "outputs": [],
   "source": [
    "df1.rename(columns={'totalyearlycompensation' : 'salary', 'basesalary':'base',\\\n",
    "                    'stockgrantvalue':'stock' }, inplace=True)"
   ]
  },
  {
   "cell_type": "code",
   "execution_count": 46,
   "id": "c7d369d6",
   "metadata": {},
   "outputs": [
    {
     "data": {
      "text/plain": [
       "Index(['company', 'level', 'title', 'salary', 'location', 'yearsofexperience',\n",
       "       'yearsatcompany', 'base', 'stock', 'bonus', 'gender', 'cityid', 'Race',\n",
       "       'Education', 'city', 'state', 'country', 'region', 'WorkEx',\n",
       "       'WorkEx_Company'],\n",
       "      dtype='object')"
      ]
     },
     "execution_count": 46,
     "metadata": {},
     "output_type": "execute_result"
    }
   ],
   "source": [
    "df1.columns"
   ]
  },
  {
   "cell_type": "markdown",
   "id": "1c1d7856",
   "metadata": {},
   "source": [
    "### Level Column"
   ]
  },
  {
   "cell_type": "code",
   "execution_count": 47,
   "id": "6dd34cd8",
   "metadata": {
    "scrolled": true
   },
   "outputs": [
    {
     "data": {
      "text/plain": [
       "L4                          4216\n",
       "L5                          4058\n",
       "L3                          2779\n",
       "L6                          2453\n",
       "Senior Software Engineer    1284\n",
       "L2                           959\n",
       "Senior                       881\n",
       "L7                           787\n",
       "ICT4                         697\n",
       "E5                           659\n",
       "63                           650\n",
       "L1                           645\n",
       "Software Engineer            642\n",
       "62                           632\n",
       "61                           612\n",
       "ICT3                         586\n",
       "IC4                          582\n",
       "E4                           561\n",
       "IC3                          546\n",
       "64                           541\n",
       "60                           525\n",
       "59                           494\n",
       "SDE II                       471\n",
       "Associate                    439\n",
       "IC5                          439\n",
       "Name: level, dtype: int64"
      ]
     },
     "execution_count": 47,
     "metadata": {},
     "output_type": "execute_result"
    }
   ],
   "source": [
    "df1.level.value_counts().head(25)"
   ]
  },
  {
   "cell_type": "code",
   "execution_count": 48,
   "id": "f88de4ac",
   "metadata": {},
   "outputs": [
    {
     "data": {
      "text/plain": [
       "2492"
      ]
     },
     "execution_count": 48,
     "metadata": {},
     "output_type": "execute_result"
    }
   ],
   "source": [
    "df1.level.nunique()"
   ]
  },
  {
   "cell_type": "markdown",
   "id": "ff4c3cf1",
   "metadata": {},
   "source": [
    "There is too much variation in the levels mentioned and there is usually no golden standard across companies on levels of employees. We will use the years of experience and salary as a proxy for the level instead."
   ]
  },
  {
   "cell_type": "code",
   "execution_count": 49,
   "id": "aaf6f520",
   "metadata": {},
   "outputs": [],
   "source": [
    "df1.drop('level',axis=1,inplace=True)"
   ]
  },
  {
   "cell_type": "code",
   "execution_count": 50,
   "id": "65129777",
   "metadata": {},
   "outputs": [
    {
     "name": "stdout",
     "output_type": "stream",
     "text": [
      "<class 'pandas.core.frame.DataFrame'>\n",
      "Int64Index: 52838 entries, 0 to 62641\n",
      "Data columns (total 19 columns):\n",
      " #   Column             Non-Null Count  Dtype   \n",
      "---  ------             --------------  -----   \n",
      " 0   company            52835 non-null  object  \n",
      " 1   title              52838 non-null  object  \n",
      " 2   salary             52838 non-null  int64   \n",
      " 3   location           52838 non-null  object  \n",
      " 4   yearsofexperience  52838 non-null  float64 \n",
      " 5   yearsatcompany     52838 non-null  float64 \n",
      " 6   base               52838 non-null  float64 \n",
      " 7   stock              52838 non-null  float64 \n",
      " 8   bonus              52838 non-null  float64 \n",
      " 9   gender             52838 non-null  object  \n",
      " 10  cityid             52838 non-null  int64   \n",
      " 11  Race               17593 non-null  object  \n",
      " 12  Education          24422 non-null  object  \n",
      " 13  city               52838 non-null  object  \n",
      " 14  state              52838 non-null  object  \n",
      " 15  country            52838 non-null  object  \n",
      " 16  region             52838 non-null  object  \n",
      " 17  WorkEx             52838 non-null  category\n",
      " 18  WorkEx_Company     52838 non-null  category\n",
      "dtypes: category(2), float64(5), int64(2), object(10)\n",
      "memory usage: 7.4+ MB\n"
     ]
    }
   ],
   "source": [
    "df1.info()"
   ]
  },
  {
   "cell_type": "markdown",
   "id": "6bad1f84",
   "metadata": {},
   "source": [
    "## Data Analysis"
   ]
  },
  {
   "cell_type": "markdown",
   "id": "d48a3454",
   "metadata": {},
   "source": [
    "<div class=\"alert alert-block alert-success\">Clustering (Machine Learning) - To find interesting patterns in the STEM career</div>"
   ]
  },
  {
   "cell_type": "markdown",
   "id": "4ccd3bdd",
   "metadata": {},
   "source": [
    "#### Data Preparation for Clustering"
   ]
  },
  {
   "cell_type": "code",
   "execution_count": 51,
   "id": "d7b7f61c",
   "metadata": {},
   "outputs": [],
   "source": [
    "df_clu = df1.copy()"
   ]
  },
  {
   "cell_type": "markdown",
   "id": "cb98d39a",
   "metadata": {},
   "source": [
    "Converting demographic columns from catagorical to numerical ones"
   ]
  },
  {
   "cell_type": "code",
   "execution_count": 52,
   "id": "089d9291",
   "metadata": {},
   "outputs": [],
   "source": [
    "#Step 1: dummy variables\n",
    "df_clu = pd.get_dummies(df_clu,columns=['region'])\n",
    "df_clu = pd.get_dummies(df_clu,columns=['gender'])\n",
    "df_clu = pd.get_dummies(df_clu,columns=['Education'])\n",
    "df_clu = pd.get_dummies(df_clu,columns=['Race'])"
   ]
  },
  {
   "cell_type": "code",
   "execution_count": 53,
   "id": "ac011b48",
   "metadata": {},
   "outputs": [
    {
     "data": {
      "text/plain": [
       "Index(['company', 'title', 'salary', 'location', 'yearsofexperience',\n",
       "       'yearsatcompany', 'base', 'stock', 'bonus', 'cityid', 'city', 'state',\n",
       "       'country', 'WorkEx', 'WorkEx_Company', 'region_Central', 'region_East',\n",
       "       'region_West', 'gender_Female', 'gender_Male', 'gender_Other',\n",
       "       'Education_Bachelor's Degree', 'Education_Highschool',\n",
       "       'Education_Master's Degree', 'Education_PhD', 'Education_Some College',\n",
       "       'Race_Asian', 'Race_Black', 'Race_Hispanic', 'Race_Two Or More',\n",
       "       'Race_White'],\n",
       "      dtype='object')"
      ]
     },
     "execution_count": 53,
     "metadata": {},
     "output_type": "execute_result"
    }
   ],
   "source": [
    "df_clu.columns"
   ]
  },
  {
   "cell_type": "code",
   "execution_count": 54,
   "id": "b60d1ba2",
   "metadata": {},
   "outputs": [],
   "source": [
    "df_clu.rename(columns={\"Education_Master's Degree\":\"Masters_Degree\",\\\n",
    "                       \"Education_Bachelor's Degree\":\"Bachelors_Degree\",\\\n",
    "                       \"Education_PhD\":\"Doctorate_Degree\",\\\n",
    "                       \"Education_Some College\":\"Some_College\",\\\n",
    "                       \"Education_Highschool\":\"Highschool\"},inplace=True)"
   ]
  },
  {
   "cell_type": "code",
   "execution_count": 55,
   "id": "6aff6665",
   "metadata": {},
   "outputs": [],
   "source": [
    "#Step 2: Dropping categorical columns for running algorithm\n",
    "df_clu.drop(['company','title','location','WorkEx','WorkEx_Company',\\\n",
    "             'city','state','country'], axis=1,inplace=True)"
   ]
  },
  {
   "cell_type": "code",
   "execution_count": 56,
   "id": "bbbd2bb1",
   "metadata": {},
   "outputs": [
    {
     "name": "stdout",
     "output_type": "stream",
     "text": [
      "<class 'pandas.core.frame.DataFrame'>\n",
      "Int64Index: 52838 entries, 0 to 62641\n",
      "Data columns (total 23 columns):\n",
      " #   Column             Non-Null Count  Dtype  \n",
      "---  ------             --------------  -----  \n",
      " 0   salary             52838 non-null  int64  \n",
      " 1   yearsofexperience  52838 non-null  float64\n",
      " 2   yearsatcompany     52838 non-null  float64\n",
      " 3   base               52838 non-null  float64\n",
      " 4   stock              52838 non-null  float64\n",
      " 5   bonus              52838 non-null  float64\n",
      " 6   cityid             52838 non-null  int64  \n",
      " 7   region_Central     52838 non-null  uint8  \n",
      " 8   region_East        52838 non-null  uint8  \n",
      " 9   region_West        52838 non-null  uint8  \n",
      " 10  gender_Female      52838 non-null  uint8  \n",
      " 11  gender_Male        52838 non-null  uint8  \n",
      " 12  gender_Other       52838 non-null  uint8  \n",
      " 13  Bachelors_Degree   52838 non-null  uint8  \n",
      " 14  Highschool         52838 non-null  uint8  \n",
      " 15  Masters_Degree     52838 non-null  uint8  \n",
      " 16  Doctorate_Degree   52838 non-null  uint8  \n",
      " 17  Some_College       52838 non-null  uint8  \n",
      " 18  Race_Asian         52838 non-null  uint8  \n",
      " 19  Race_Black         52838 non-null  uint8  \n",
      " 20  Race_Hispanic      52838 non-null  uint8  \n",
      " 21  Race_Two Or More   52838 non-null  uint8  \n",
      " 22  Race_White         52838 non-null  uint8  \n",
      "dtypes: float64(5), int64(2), uint8(16)\n",
      "memory usage: 4.0 MB\n"
     ]
    }
   ],
   "source": [
    "#Step 3: Final columns used for clustering\n",
    "df_clu.info()"
   ]
  },
  {
   "cell_type": "code",
   "execution_count": 57,
   "id": "8491f853",
   "metadata": {},
   "outputs": [],
   "source": [
    "from sklearn.cluster import KMeans\n",
    "clu = KMeans(n_clusters=4, random_state=0)"
   ]
  },
  {
   "cell_type": "code",
   "execution_count": 58,
   "id": "8300bfe0",
   "metadata": {},
   "outputs": [
    {
     "data": {
      "text/plain": [
       "KMeans(n_clusters=4, random_state=0)"
      ]
     },
     "execution_count": 58,
     "metadata": {},
     "output_type": "execute_result"
    }
   ],
   "source": [
    "clu.fit(df_clu)"
   ]
  },
  {
   "cell_type": "code",
   "execution_count": 59,
   "id": "73456ded",
   "metadata": {},
   "outputs": [
    {
     "data": {
      "text/plain": [
       "array([1, 1, 0, ..., 0, 0, 1], dtype=int32)"
      ]
     },
     "execution_count": 59,
     "metadata": {},
     "output_type": "execute_result"
    }
   ],
   "source": [
    "clu.labels_"
   ]
  },
  {
   "cell_type": "code",
   "execution_count": 60,
   "id": "72c47cfd",
   "metadata": {},
   "outputs": [],
   "source": [
    "df_plot=df_clu.copy()"
   ]
  },
  {
   "cell_type": "code",
   "execution_count": 61,
   "id": "abd68fff",
   "metadata": {},
   "outputs": [],
   "source": [
    "df_plot['cluster']=clu.labels_"
   ]
  },
  {
   "cell_type": "code",
   "execution_count": 62,
   "id": "85cac2e2",
   "metadata": {},
   "outputs": [
    {
     "data": {
      "text/html": [
       "<div>\n",
       "<style scoped>\n",
       "    .dataframe tbody tr th:only-of-type {\n",
       "        vertical-align: middle;\n",
       "    }\n",
       "\n",
       "    .dataframe tbody tr th {\n",
       "        vertical-align: top;\n",
       "    }\n",
       "\n",
       "    .dataframe thead th {\n",
       "        text-align: right;\n",
       "    }\n",
       "</style>\n",
       "<table border=\"1\" class=\"dataframe\">\n",
       "  <thead>\n",
       "    <tr style=\"text-align: right;\">\n",
       "      <th></th>\n",
       "      <th>salary</th>\n",
       "      <th>yearsofexperience</th>\n",
       "      <th>yearsatcompany</th>\n",
       "      <th>base</th>\n",
       "      <th>stock</th>\n",
       "      <th>bonus</th>\n",
       "      <th>cityid</th>\n",
       "      <th>region_Central</th>\n",
       "      <th>region_East</th>\n",
       "      <th>region_West</th>\n",
       "      <th>...</th>\n",
       "      <th>Bachelors_Degree</th>\n",
       "      <th>Highschool</th>\n",
       "      <th>Masters_Degree</th>\n",
       "      <th>Doctorate_Degree</th>\n",
       "      <th>Some_College</th>\n",
       "      <th>Race_Asian</th>\n",
       "      <th>Race_Black</th>\n",
       "      <th>Race_Hispanic</th>\n",
       "      <th>Race_Two Or More</th>\n",
       "      <th>Race_White</th>\n",
       "    </tr>\n",
       "    <tr>\n",
       "      <th>cluster</th>\n",
       "      <th></th>\n",
       "      <th></th>\n",
       "      <th></th>\n",
       "      <th></th>\n",
       "      <th></th>\n",
       "      <th></th>\n",
       "      <th></th>\n",
       "      <th></th>\n",
       "      <th></th>\n",
       "      <th></th>\n",
       "      <th></th>\n",
       "      <th></th>\n",
       "      <th></th>\n",
       "      <th></th>\n",
       "      <th></th>\n",
       "      <th></th>\n",
       "      <th></th>\n",
       "      <th></th>\n",
       "      <th></th>\n",
       "      <th></th>\n",
       "      <th></th>\n",
       "    </tr>\n",
       "  </thead>\n",
       "  <tbody>\n",
       "    <tr>\n",
       "      <th>0</th>\n",
       "      <td>270385.531866</td>\n",
       "      <td>9.021580</td>\n",
       "      <td>3.162604</td>\n",
       "      <td>172097.533018</td>\n",
       "      <td>65315.793082</td>\n",
       "      <td>26834.210566</td>\n",
       "      <td>9245.723863</td>\n",
       "      <td>0.059229</td>\n",
       "      <td>0.146163</td>\n",
       "      <td>0.794607</td>\n",
       "      <td>...</td>\n",
       "      <td>0.142344</td>\n",
       "      <td>0.004218</td>\n",
       "      <td>0.265078</td>\n",
       "      <td>0.039391</td>\n",
       "      <td>0.005017</td>\n",
       "      <td>0.169194</td>\n",
       "      <td>0.007924</td>\n",
       "      <td>0.014651</td>\n",
       "      <td>0.010660</td>\n",
       "      <td>0.106430</td>\n",
       "    </tr>\n",
       "    <tr>\n",
       "      <th>1</th>\n",
       "      <td>152791.535230</td>\n",
       "      <td>5.015282</td>\n",
       "      <td>2.297167</td>\n",
       "      <td>125911.083742</td>\n",
       "      <td>14188.124284</td>\n",
       "      <td>12241.639137</td>\n",
       "      <td>10254.373130</td>\n",
       "      <td>0.176884</td>\n",
       "      <td>0.260066</td>\n",
       "      <td>0.563050</td>\n",
       "      <td>...</td>\n",
       "      <td>0.214770</td>\n",
       "      <td>0.003775</td>\n",
       "      <td>0.231267</td>\n",
       "      <td>0.015867</td>\n",
       "      <td>0.005872</td>\n",
       "      <td>0.176220</td>\n",
       "      <td>0.015553</td>\n",
       "      <td>0.021599</td>\n",
       "      <td>0.014085</td>\n",
       "      <td>0.130365</td>\n",
       "    </tr>\n",
       "    <tr>\n",
       "      <th>2</th>\n",
       "      <td>447412.241379</td>\n",
       "      <td>11.765345</td>\n",
       "      <td>3.513086</td>\n",
       "      <td>216553.867114</td>\n",
       "      <td>183504.844828</td>\n",
       "      <td>39405.995690</td>\n",
       "      <td>8805.731207</td>\n",
       "      <td>0.028448</td>\n",
       "      <td>0.103793</td>\n",
       "      <td>0.867759</td>\n",
       "      <td>...</td>\n",
       "      <td>0.126552</td>\n",
       "      <td>0.004138</td>\n",
       "      <td>0.247931</td>\n",
       "      <td>0.058448</td>\n",
       "      <td>0.005690</td>\n",
       "      <td>0.144828</td>\n",
       "      <td>0.005690</td>\n",
       "      <td>0.013448</td>\n",
       "      <td>0.012759</td>\n",
       "      <td>0.117069</td>\n",
       "    </tr>\n",
       "    <tr>\n",
       "      <th>3</th>\n",
       "      <td>823811.085973</td>\n",
       "      <td>15.132353</td>\n",
       "      <td>4.460860</td>\n",
       "      <td>254411.757403</td>\n",
       "      <td>448113.789593</td>\n",
       "      <td>66608.561086</td>\n",
       "      <td>8774.888009</td>\n",
       "      <td>0.016968</td>\n",
       "      <td>0.076923</td>\n",
       "      <td>0.906109</td>\n",
       "      <td>...</td>\n",
       "      <td>0.109729</td>\n",
       "      <td>0.001131</td>\n",
       "      <td>0.221719</td>\n",
       "      <td>0.070136</td>\n",
       "      <td>0.006787</td>\n",
       "      <td>0.116516</td>\n",
       "      <td>0.003394</td>\n",
       "      <td>0.004525</td>\n",
       "      <td>0.010181</td>\n",
       "      <td>0.128959</td>\n",
       "    </tr>\n",
       "  </tbody>\n",
       "</table>\n",
       "<p>4 rows × 23 columns</p>\n",
       "</div>"
      ],
      "text/plain": [
       "                salary  yearsofexperience  yearsatcompany           base  \\\n",
       "cluster                                                                    \n",
       "0        270385.531866           9.021580        3.162604  172097.533018   \n",
       "1        152791.535230           5.015282        2.297167  125911.083742   \n",
       "2        447412.241379          11.765345        3.513086  216553.867114   \n",
       "3        823811.085973          15.132353        4.460860  254411.757403   \n",
       "\n",
       "                 stock         bonus        cityid  region_Central  \\\n",
       "cluster                                                              \n",
       "0         65315.793082  26834.210566   9245.723863        0.059229   \n",
       "1         14188.124284  12241.639137  10254.373130        0.176884   \n",
       "2        183504.844828  39405.995690   8805.731207        0.028448   \n",
       "3        448113.789593  66608.561086   8774.888009        0.016968   \n",
       "\n",
       "         region_East  region_West  ...  Bachelors_Degree  Highschool  \\\n",
       "cluster                            ...                                 \n",
       "0           0.146163     0.794607  ...          0.142344    0.004218   \n",
       "1           0.260066     0.563050  ...          0.214770    0.003775   \n",
       "2           0.103793     0.867759  ...          0.126552    0.004138   \n",
       "3           0.076923     0.906109  ...          0.109729    0.001131   \n",
       "\n",
       "         Masters_Degree  Doctorate_Degree  Some_College  Race_Asian  \\\n",
       "cluster                                                               \n",
       "0              0.265078          0.039391      0.005017    0.169194   \n",
       "1              0.231267          0.015867      0.005872    0.176220   \n",
       "2              0.247931          0.058448      0.005690    0.144828   \n",
       "3              0.221719          0.070136      0.006787    0.116516   \n",
       "\n",
       "         Race_Black  Race_Hispanic  Race_Two Or More  Race_White  \n",
       "cluster                                                           \n",
       "0          0.007924       0.014651          0.010660    0.106430  \n",
       "1          0.015553       0.021599          0.014085    0.130365  \n",
       "2          0.005690       0.013448          0.012759    0.117069  \n",
       "3          0.003394       0.004525          0.010181    0.128959  \n",
       "\n",
       "[4 rows x 23 columns]"
      ]
     },
     "execution_count": 62,
     "metadata": {},
     "output_type": "execute_result"
    }
   ],
   "source": [
    "df_clusters = df_plot.groupby('cluster').mean()\n",
    "df_clusters"
   ]
  },
  {
   "cell_type": "code",
   "execution_count": 63,
   "id": "c38f45aa",
   "metadata": {
    "scrolled": true
   },
   "outputs": [
    {
     "data": {
      "text/plain": [
       "<AxesSubplot:xlabel='cluster', ylabel='count'>"
      ]
     },
     "execution_count": 63,
     "metadata": {},
     "output_type": "execute_result"
    },
    {
     "data": {
      "image/png": "[encoded data removed]",
      "text/plain": [
       "<Figure size 432x288 with 1 Axes>"
      ]
     },
     "metadata": {
      "needs_background": "light"
     },
     "output_type": "display_data"
    }
   ],
   "source": [
    "sns.countplot(x='cluster',data=df_plot,color='lightblue',order = df_plot['cluster'].value_counts().index)"
   ]
  },
  {
   "cell_type": "markdown",
   "id": "17b17293",
   "metadata": {},
   "source": [
    "<div class=\"alert alert-block alert-danger\">\n",
    "Observation: We noticed that the key differentiator among the 4 clusters is salary and years of experience. And, as expected in a pyramid structure, higher salary brackets have lower number of employees.\n",
    "</div>"
   ]
  },
  {
   "cell_type": "markdown",
   "id": "549cdae5",
   "metadata": {},
   "source": [
    "### Finding 1: Is a Masters or PhD worth it? "
   ]
  },
  {
   "cell_type": "markdown",
   "id": "d5fa669b",
   "metadata": {},
   "source": [
    "Summary: Since Education is expensive, we want to analyse if higher education is worth the time, effort and money spent."
   ]
  },
  {
   "cell_type": "code",
   "execution_count": 64,
   "id": "853fc7c7",
   "metadata": {},
   "outputs": [
    {
     "data": {
      "text/plain": [
       "52838"
      ]
     },
     "execution_count": 64,
     "metadata": {},
     "output_type": "execute_result"
    }
   ],
   "source": [
    "len(df1)"
   ]
  },
  {
   "cell_type": "code",
   "execution_count": 65,
   "id": "982fa62a",
   "metadata": {},
   "outputs": [
    {
     "data": {
      "text/plain": [
       "24422"
      ]
     },
     "execution_count": 65,
     "metadata": {},
     "output_type": "execute_result"
    }
   ],
   "source": [
    "df1.Education.count()"
   ]
  },
  {
   "cell_type": "markdown",
   "id": "894ad3b2",
   "metadata": {},
   "source": [
    "Only half of the records have education mentioned. But 24422 records is still a good subset for our analysis."
   ]
  },
  {
   "cell_type": "code",
   "execution_count": 66,
   "id": "392d6641",
   "metadata": {},
   "outputs": [
    {
     "data": {
      "text/plain": [
       "<AxesSubplot:ylabel='Education'>"
      ]
     },
     "execution_count": 66,
     "metadata": {},
     "output_type": "execute_result"
    },
    {
     "data": {
      "image/png": "[encoded data removed]",
      "text/plain": [
       "<Figure size 432x288 with 1 Axes>"
      ]
     },
     "metadata": {},
     "output_type": "display_data"
    }
   ],
   "source": [
    "df1.groupby('Education')['Education'].count().plot(kind='pie')"
   ]
  },
  {
   "cell_type": "code",
   "execution_count": 67,
   "id": "e1d05065",
   "metadata": {},
   "outputs": [],
   "source": [
    "#\"High School\" and \"Some College\" are only 200+ records each. \n",
    "#Hence, removing \"Highschool\" and \"Some College\" and focussing on Bachelors, Masters and PhD.\n",
    "df_edu = df1[(df1.Education!=\"Highschool\") & (df1.Education!=\"Some College\")].copy()"
   ]
  },
  {
   "cell_type": "code",
   "execution_count": 68,
   "id": "f32f4114",
   "metadata": {},
   "outputs": [
    {
     "data": {
      "text/plain": [
       "23920"
      ]
     },
     "execution_count": 68,
     "metadata": {},
     "output_type": "execute_result"
    }
   ],
   "source": [
    "len(df_edu[df_edu.Education.isna()==False])"
   ]
  },
  {
   "cell_type": "code",
   "execution_count": 69,
   "id": "c619cdd1",
   "metadata": {
    "scrolled": true
   },
   "outputs": [
    {
     "data": {
      "text/plain": [
       "<AxesSubplot:ylabel='Education'>"
      ]
     },
     "execution_count": 69,
     "metadata": {},
     "output_type": "execute_result"
    },
    {
     "data": {
      "image/png": "[encoded data removed]",
      "text/plain": [
       "<Figure size 432x288 with 1 Axes>"
      ]
     },
     "metadata": {},
     "output_type": "display_data"
    }
   ],
   "source": [
    "df_edu.groupby('Education')['Education'].count().plot(kind='pie')"
   ]
  },
  {
   "cell_type": "markdown",
   "id": "58b6c1d0",
   "metadata": {},
   "source": [
    "<div class=\"alert alert-block alert-danger\">\n",
    "Observation: More than 50% of the Employees in the data have Masters Degree.\n",
    "</div>"
   ]
  },
  {
   "cell_type": "code",
   "execution_count": 70,
   "id": "b23a6d63",
   "metadata": {},
   "outputs": [
    {
     "data": {
      "text/plain": [
       "<AxesSubplot:xlabel='WorkEx', ylabel='count'>"
      ]
     },
     "execution_count": 70,
     "metadata": {},
     "output_type": "execute_result"
    },
    {
     "data": {
      "image/png": "[encoded data removed]",
      "text/plain": [
       "<Figure size 432x288 with 1 Axes>"
      ]
     },
     "metadata": {
      "needs_background": "light"
     },
     "output_type": "display_data"
    }
   ],
   "source": [
    "sns.countplot(x='WorkEx',data=df_edu,hue='Education')"
   ]
  },
  {
   "cell_type": "markdown",
   "id": "d1db4fdd",
   "metadata": {},
   "source": [
    "The data gets lesser as Work Experience increases, so we will omit 30+ years with less than 100 records in our analysis. "
   ]
  },
  {
   "cell_type": "code",
   "execution_count": 71,
   "id": "46a7e009",
   "metadata": {},
   "outputs": [
    {
     "data": {
      "text/plain": [
       "<AxesSubplot:xlabel='count', ylabel='title'>"
      ]
     },
     "execution_count": 71,
     "metadata": {},
     "output_type": "execute_result"
    },
    {
     "data": {
      "image/png": "[encoded data removed]",
      "text/plain": [
       "<Figure size 432x288 with 1 Axes>"
      ]
     },
     "metadata": {
      "needs_background": "light"
     },
     "output_type": "display_data"
    }
   ],
   "source": [
    "sns.countplot(y=\"title\",data=df_edu,hue='Education',\\\n",
    "              order = df_edu['title'].value_counts().index)"
   ]
  },
  {
   "cell_type": "code",
   "execution_count": 72,
   "id": "ef0ff8bb",
   "metadata": {
    "scrolled": true
   },
   "outputs": [
    {
     "data": {
      "text/plain": [
       "<AxesSubplot:xlabel='count', ylabel='title'>"
      ]
     },
     "execution_count": 72,
     "metadata": {},
     "output_type": "execute_result"
    },
    {
     "data": {
      "image/png": "[encoded data removed]",
      "text/plain": [
       "<Figure size 432x288 with 1 Axes>"
      ]
     },
     "metadata": {
      "needs_background": "light"
     },
     "output_type": "display_data"
    }
   ],
   "source": [
    "#Removing 'Software Engineer' title to adjust the scale since it increase the scale by 4 times\n",
    "sns.countplot(y=\"title\",data=df_edu[(df_edu.title == \"Software Engineer\")==False],hue='Education',\\\n",
    "              order = df_edu['title'].value_counts().index)"
   ]
  },
  {
   "cell_type": "markdown",
   "id": "7e7720ae",
   "metadata": {},
   "source": [
    "<div class=\"alert alert-block alert-danger\">\n",
    "Observations: \n",
    "<ul>\n",
    "<li>As level of Education increases, people get into specialised technical fields.</li>\n",
    "<li>Majority employees with PhD are in Software, Hardware & Data Scientist roles.</li>\n",
    "<li>For Master's degree, along with specialised roles, we see people in managerial roles as well.</li>\n",
    "<li>With Bachelor's degree, there is higher variation as employees are spread out from HR to Core Engineering roles.</li>\n",
    "</ul></div>"
   ]
  },
  {
   "cell_type": "code",
   "execution_count": 73,
   "id": "d7e1d0d6",
   "metadata": {},
   "outputs": [
    {
     "data": {
      "text/plain": [
       "<seaborn.axisgrid.FacetGrid at 0x7feb4520bfd0>"
      ]
     },
     "execution_count": 73,
     "metadata": {},
     "output_type": "execute_result"
    },
    {
     "data": {
      "image/png": "[encoded data removed]",
      "text/plain": [
       "<Figure size 487.625x360 with 1 Axes>"
      ]
     },
     "metadata": {
      "needs_background": "light"
     },
     "output_type": "display_data"
    }
   ],
   "source": [
    "sns.catplot(x='WorkEx',y='salary',data=df_edu[(df_edu.yearsofexperience<30) & \\\n",
    "                                           (df_edu.WorkEx.str.contains(\"40\")==False)],hue='Education',kind='point')"
   ]
  },
  {
   "cell_type": "markdown",
   "id": "013876d4",
   "metadata": {},
   "source": [
    "<div class=\"alert alert-block alert-danger\">\n",
    "Observations:\n",
    "<ul>\n",
    "<li>For Master’s, the salary is 10% higher than Bachelor’s on average, but there’s a 15% jump after 15 years of Work Experience. This might be because Employers tend to promote Master's holders over Bachelor's holders for higher positions.</li>\n",
    "<li>For PhD, the salary is 30% higher than Masters. Difference is not just in the beginning years, but even with higher experience.</li>\n",
    "</ul></div>"
   ]
  },
  {
   "cell_type": "code",
   "execution_count": 74,
   "id": "b5de103a",
   "metadata": {
    "scrolled": true
   },
   "outputs": [
    {
     "data": {
      "text/html": [
       "<div>\n",
       "<style scoped>\n",
       "    .dataframe tbody tr th:only-of-type {\n",
       "        vertical-align: middle;\n",
       "    }\n",
       "\n",
       "    .dataframe tbody tr th {\n",
       "        vertical-align: top;\n",
       "    }\n",
       "\n",
       "    .dataframe thead th {\n",
       "        text-align: right;\n",
       "    }\n",
       "</style>\n",
       "<table border=\"1\" class=\"dataframe\">\n",
       "  <thead>\n",
       "    <tr style=\"text-align: right;\">\n",
       "      <th></th>\n",
       "      <th>salary</th>\n",
       "      <th>yearsofexperience</th>\n",
       "      <th>Bachelors_Degree</th>\n",
       "      <th>Masters_Degree</th>\n",
       "      <th>Doctorate_Degree</th>\n",
       "    </tr>\n",
       "    <tr>\n",
       "      <th>cluster</th>\n",
       "      <th></th>\n",
       "      <th></th>\n",
       "      <th></th>\n",
       "      <th></th>\n",
       "      <th></th>\n",
       "    </tr>\n",
       "  </thead>\n",
       "  <tbody>\n",
       "    <tr>\n",
       "      <th>3</th>\n",
       "      <td>823811.085973</td>\n",
       "      <td>15.132353</td>\n",
       "      <td>0.109729</td>\n",
       "      <td>0.221719</td>\n",
       "      <td>0.070136</td>\n",
       "    </tr>\n",
       "    <tr>\n",
       "      <th>2</th>\n",
       "      <td>447412.241379</td>\n",
       "      <td>11.765345</td>\n",
       "      <td>0.126552</td>\n",
       "      <td>0.247931</td>\n",
       "      <td>0.058448</td>\n",
       "    </tr>\n",
       "    <tr>\n",
       "      <th>0</th>\n",
       "      <td>270385.531866</td>\n",
       "      <td>9.021580</td>\n",
       "      <td>0.142344</td>\n",
       "      <td>0.265078</td>\n",
       "      <td>0.039391</td>\n",
       "    </tr>\n",
       "    <tr>\n",
       "      <th>1</th>\n",
       "      <td>152791.535230</td>\n",
       "      <td>5.015282</td>\n",
       "      <td>0.214770</td>\n",
       "      <td>0.231267</td>\n",
       "      <td>0.015867</td>\n",
       "    </tr>\n",
       "  </tbody>\n",
       "</table>\n",
       "</div>"
      ],
      "text/plain": [
       "                salary  yearsofexperience  Bachelors_Degree  Masters_Degree  \\\n",
       "cluster                                                                       \n",
       "3        823811.085973          15.132353          0.109729        0.221719   \n",
       "2        447412.241379          11.765345          0.126552        0.247931   \n",
       "0        270385.531866           9.021580          0.142344        0.265078   \n",
       "1        152791.535230           5.015282          0.214770        0.231267   \n",
       "\n",
       "         Doctorate_Degree  \n",
       "cluster                    \n",
       "3                0.070136  \n",
       "2                0.058448  \n",
       "0                0.039391  \n",
       "1                0.015867  "
      ]
     },
     "execution_count": 74,
     "metadata": {},
     "output_type": "execute_result"
    }
   ],
   "source": [
    "df_clusters[['salary','yearsofexperience','Bachelors_Degree','Masters_Degree','Doctorate_Degree']]\\\n",
    "            .sort_values('salary', ascending=False)"
   ]
  },
  {
   "cell_type": "markdown",
   "id": "6e80b730",
   "metadata": {},
   "source": [
    "<div class=\"alert alert-block alert-danger\">\n",
    "Observations:\n",
    "<ul>\n",
    "<li>The clustering data also shows a similar trend, where we see people with higher degree are in the higher salary cluster.</li>\n",
    "<li>The number of PhDs have an increasing trend in the higher salary bracket.</li>\n",
    "<li>The number of Master's degree holders are spread across but more higly concentrated in the mid range salary clusters.</li>\n",
    "<li>The number of Bachelor's degree holders are in the lowest range salary cluster.</li>\n",
    "</ul></div>"
   ]
  },
  {
   "cell_type": "markdown",
   "id": "9b346c88",
   "metadata": {},
   "source": [
    "<div class=\"alert alert-block alert-success\">Managerial Insight 1: Yes, higher education is worth it! For Masters, differentiation is more so in the long run. But, a PhD could catalyse the career throughout. </div>"
   ]
  },
  {
   "cell_type": "markdown",
   "id": "fe980689",
   "metadata": {},
   "source": [
    "### Finding 2: Is loyalty a reward or penalty?"
   ]
  },
  {
   "cell_type": "markdown",
   "id": "ded60b4f",
   "metadata": {},
   "source": [
    "Summary: There are 2 catagories of employees, where few stick to the same company for 10+ years but there is another set of employees who love to switch companies frequently. So, we wanted to explore which is better and if  there is an ideal time to spend in a company."
   ]
  },
  {
   "cell_type": "code",
   "execution_count": 75,
   "id": "7147ce4c",
   "metadata": {
    "scrolled": true
   },
   "outputs": [
    {
     "data": {
      "text/plain": [
       "<AxesSubplot:xlabel='yearsatcompany', ylabel='salary'>"
      ]
     },
     "execution_count": 75,
     "metadata": {},
     "output_type": "execute_result"
    },
    {
     "data": {
      "image/png": "[encoded data removed]",
      "text/plain": [
       "<Figure size 432x288 with 1 Axes>"
      ]
     },
     "metadata": {
      "needs_background": "light"
     },
     "output_type": "display_data"
    }
   ],
   "source": [
    "sns.scatterplot(y='salary',x='yearsatcompany',hue='cluster', data=df_plot)"
   ]
  },
  {
   "cell_type": "code",
   "execution_count": 76,
   "id": "96a54ba2",
   "metadata": {},
   "outputs": [
    {
     "data": {
      "text/plain": [
       "<AxesSubplot:xlabel='yearsatcompany', ylabel='salary'>"
      ]
     },
     "execution_count": 76,
     "metadata": {},
     "output_type": "execute_result"
    },
    {
     "data": {
      "image/png": "[encoded data removed]",
      "text/plain": [
       "<Figure size 432x288 with 1 Axes>"
      ]
     },
     "metadata": {
      "needs_background": "light"
     },
     "output_type": "display_data"
    }
   ],
   "source": [
    "#Removing the outliers for the plot\n",
    "sns.scatterplot(y='salary',x='yearsatcompany',hue='cluster',\\\n",
    "                data=df_plot[(df_plot.yearsatcompany<40) & (df_plot.salary<4000000)])"
   ]
  },
  {
   "cell_type": "code",
   "execution_count": 77,
   "id": "9c07eaf8",
   "metadata": {},
   "outputs": [
    {
     "data": {
      "text/html": [
       "<div>\n",
       "<style scoped>\n",
       "    .dataframe tbody tr th:only-of-type {\n",
       "        vertical-align: middle;\n",
       "    }\n",
       "\n",
       "    .dataframe tbody tr th {\n",
       "        vertical-align: top;\n",
       "    }\n",
       "\n",
       "    .dataframe thead th {\n",
       "        text-align: right;\n",
       "    }\n",
       "</style>\n",
       "<table border=\"1\" class=\"dataframe\">\n",
       "  <thead>\n",
       "    <tr style=\"text-align: right;\">\n",
       "      <th></th>\n",
       "      <th>salary</th>\n",
       "      <th>yearsofexperience</th>\n",
       "      <th>yearsatcompany</th>\n",
       "    </tr>\n",
       "    <tr>\n",
       "      <th>cluster</th>\n",
       "      <th></th>\n",
       "      <th></th>\n",
       "      <th></th>\n",
       "    </tr>\n",
       "  </thead>\n",
       "  <tbody>\n",
       "    <tr>\n",
       "      <th>3</th>\n",
       "      <td>823811.085973</td>\n",
       "      <td>15.132353</td>\n",
       "      <td>4.460860</td>\n",
       "    </tr>\n",
       "    <tr>\n",
       "      <th>2</th>\n",
       "      <td>447412.241379</td>\n",
       "      <td>11.765345</td>\n",
       "      <td>3.513086</td>\n",
       "    </tr>\n",
       "    <tr>\n",
       "      <th>0</th>\n",
       "      <td>270385.531866</td>\n",
       "      <td>9.021580</td>\n",
       "      <td>3.162604</td>\n",
       "    </tr>\n",
       "    <tr>\n",
       "      <th>1</th>\n",
       "      <td>152791.535230</td>\n",
       "      <td>5.015282</td>\n",
       "      <td>2.297167</td>\n",
       "    </tr>\n",
       "  </tbody>\n",
       "</table>\n",
       "</div>"
      ],
      "text/plain": [
       "                salary  yearsofexperience  yearsatcompany\n",
       "cluster                                                  \n",
       "3        823811.085973          15.132353        4.460860\n",
       "2        447412.241379          11.765345        3.513086\n",
       "0        270385.531866           9.021580        3.162604\n",
       "1        152791.535230           5.015282        2.297167"
      ]
     },
     "execution_count": 77,
     "metadata": {},
     "output_type": "execute_result"
    }
   ],
   "source": [
    "#Mean values in the clusters\n",
    "df_clusters[['salary','yearsofexperience','yearsatcompany']].sort_values('salary', ascending=False)"
   ]
  },
  {
   "cell_type": "code",
   "execution_count": 78,
   "id": "84121061",
   "metadata": {
    "scrolled": true
   },
   "outputs": [
    {
     "data": {
      "text/html": [
       "<div>\n",
       "<style scoped>\n",
       "    .dataframe tbody tr th:only-of-type {\n",
       "        vertical-align: middle;\n",
       "    }\n",
       "\n",
       "    .dataframe tbody tr th {\n",
       "        vertical-align: top;\n",
       "    }\n",
       "\n",
       "    .dataframe thead th {\n",
       "        text-align: right;\n",
       "    }\n",
       "</style>\n",
       "<table border=\"1\" class=\"dataframe\">\n",
       "  <thead>\n",
       "    <tr style=\"text-align: right;\">\n",
       "      <th></th>\n",
       "      <th>salary</th>\n",
       "      <th>yearsofexperience</th>\n",
       "      <th>yearsatcompany</th>\n",
       "    </tr>\n",
       "  </thead>\n",
       "  <tbody>\n",
       "    <tr>\n",
       "      <th>salary</th>\n",
       "      <td>1.000000</td>\n",
       "      <td>0.443969</td>\n",
       "      <td>0.160350</td>\n",
       "    </tr>\n",
       "    <tr>\n",
       "      <th>yearsofexperience</th>\n",
       "      <td>0.443969</td>\n",
       "      <td>1.000000</td>\n",
       "      <td>0.532381</td>\n",
       "    </tr>\n",
       "    <tr>\n",
       "      <th>yearsatcompany</th>\n",
       "      <td>0.160350</td>\n",
       "      <td>0.532381</td>\n",
       "      <td>1.000000</td>\n",
       "    </tr>\n",
       "  </tbody>\n",
       "</table>\n",
       "</div>"
      ],
      "text/plain": [
       "                     salary  yearsofexperience  yearsatcompany\n",
       "salary             1.000000           0.443969        0.160350\n",
       "yearsofexperience  0.443969           1.000000        0.532381\n",
       "yearsatcompany     0.160350           0.532381        1.000000"
      ]
     },
     "execution_count": 78,
     "metadata": {},
     "output_type": "execute_result"
    }
   ],
   "source": [
    "#Correlation between the columns in the initial dataset\n",
    "df_clu[['salary','yearsofexperience','yearsatcompany']].corr()"
   ]
  },
  {
   "cell_type": "markdown",
   "id": "6a5608d6",
   "metadata": {},
   "source": [
    "<div class=\"alert alert-block alert-danger\">\n",
    "Observations:\n",
    "<ul>\n",
    "<li>The average years at company is 3-5 years for the people in the higher salary clusters(> $400,000).</li>\n",
    "<li>While overall Work Experience is highly correlated with salary (44%), there is only a 16% correlation between Years at a company and Salary</li>\n",
    "</ul></div>"
   ]
  },
  {
   "cell_type": "markdown",
   "id": "a69c3e12",
   "metadata": {},
   "source": [
    "<div class=\"alert alert-block alert-success\">\n",
    "Managerial Insight 2: No, it is not so rewarding to spend 10+ years in the same company. To earn more than $400,000, move on to the next challenge after 3-5 years.\n",
    "</div>"
   ]
  },
  {
   "cell_type": "markdown",
   "id": "f31e3b7c",
   "metadata": {},
   "source": [
    "### Finding 3: Is there really a gender pay gap in STEM?"
   ]
  },
  {
   "cell_type": "markdown",
   "id": "71bec8a2",
   "metadata": {},
   "source": [
    "Summary: This is to validate the over-hyped notion about female employees getting paid lesser than males with same education and work experience."
   ]
  },
  {
   "cell_type": "code",
   "execution_count": 79,
   "id": "7cc060f8",
   "metadata": {},
   "outputs": [
    {
     "data": {
      "text/plain": [
       "<AxesSubplot:ylabel='gender'>"
      ]
     },
     "execution_count": 79,
     "metadata": {},
     "output_type": "execute_result"
    },
    {
     "data": {
      "image/png": "[encoded data removed]",
      "text/plain": [
       "<Figure size 432x288 with 1 Axes>"
      ]
     },
     "metadata": {},
     "output_type": "display_data"
    }
   ],
   "source": [
    "#To normalise education background of employees, filtering out the employees with Master's degree\n",
    "df_edu[(df_edu.Education==\"Master's Degree\")].groupby(['gender'])['gender'].count().plot(kind='pie')"
   ]
  },
  {
   "cell_type": "code",
   "execution_count": 80,
   "id": "7e866004",
   "metadata": {},
   "outputs": [
    {
     "data": {
      "text/plain": [
       "<AxesSubplot:xlabel='WorkEx', ylabel='count'>"
      ]
     },
     "execution_count": 80,
     "metadata": {},
     "output_type": "execute_result"
    },
    {
     "data": {
      "image/png": "[encoded data removed]",
      "text/plain": [
       "<Figure size 432x288 with 1 Axes>"
      ]
     },
     "metadata": {
      "needs_background": "light"
     },
     "output_type": "display_data"
    }
   ],
   "source": [
    "sns.countplot(x='WorkEx',data=df_edu[(df_edu.Education==\"Master's Degree\")],hue='gender')"
   ]
  },
  {
   "cell_type": "markdown",
   "id": "7aecea6b",
   "metadata": {},
   "source": [
    "<div class=\"alert alert-block alert-danger\">\n",
    "Observations:\n",
    "<ul>\n",
    "<li>Nearly 70% of Master's degree holders is Male</li>\n",
    "<li>The number of Female employees with > 20 years of work experience is very low, probably because very few women would have opted for higher education in STEM 20 years ago.</li>\n",
    "</ul></div>"
   ]
  },
  {
   "cell_type": "code",
   "execution_count": 81,
   "id": "55101787",
   "metadata": {},
   "outputs": [
    {
     "data": {
      "text/plain": [
       "<seaborn.axisgrid.FacetGrid at 0x7feb2cc6ac40>"
      ]
     },
     "execution_count": 81,
     "metadata": {},
     "output_type": "execute_result"
    },
    {
     "data": {
      "image/png": "[encoded data removed]",
      "text/plain": [
       "<Figure size 432.125x360 with 1 Axes>"
      ]
     },
     "metadata": {
      "needs_background": "light"
     },
     "output_type": "display_data"
    }
   ],
   "source": [
    "sns.catplot(x='WorkEx',y='salary',data=df_edu[(df_edu.Education==\"Master's Degree\")\\\n",
    "                                           &(df_edu.WorkEx.str.contains(\"40\")==False)&\\\n",
    "                                              (df_edu.gender!='Other')],hue='gender',kind='bar')"
   ]
  },
  {
   "cell_type": "markdown",
   "id": "5e86aa87",
   "metadata": {},
   "source": [
    "<div class=\"alert alert-block alert-danger\">\n",
    "Observation: In the first 5 years of work experience, men and women start with equal pay. But gradually after 5 years, men seem to earn higher than women. But, is that the full story?\n",
    "</div>"
   ]
  },
  {
   "cell_type": "markdown",
   "id": "5516f5e8",
   "metadata": {},
   "source": [
    "We wanted to dig deeper about where this difference is coming from, despite normalising the education and work experience. Hence, we explored the salary components (base salary and stock grant value) that could have created the gap."
   ]
  },
  {
   "cell_type": "code",
   "execution_count": 82,
   "id": "702b1a41",
   "metadata": {},
   "outputs": [
    {
     "data": {
      "text/plain": [
       "<seaborn.axisgrid.FacetGrid at 0x7feb2ccf9520>"
      ]
     },
     "execution_count": 82,
     "metadata": {},
     "output_type": "execute_result"
    },
    {
     "data": {
      "image/png": "[encoded data removed]",
      "text/plain": [
       "<Figure size 432.125x360 with 1 Axes>"
      ]
     },
     "metadata": {
      "needs_background": "light"
     },
     "output_type": "display_data"
    }
   ],
   "source": [
    "sns.catplot(x='WorkEx',y='base',data=df_edu[(df_edu.Education==\"Master's Degree\")\\\n",
    "                                            &(df_edu.WorkEx.str.contains(\"40\")==False)&\\\n",
    "                                            (df_edu.gender!='Other')],hue='gender',kind='bar')"
   ]
  },
  {
   "cell_type": "code",
   "execution_count": 83,
   "id": "24e6c525",
   "metadata": {},
   "outputs": [
    {
     "data": {
      "text/plain": [
       "<seaborn.axisgrid.FacetGrid at 0x7feb45258670>"
      ]
     },
     "execution_count": 83,
     "metadata": {},
     "output_type": "execute_result"
    },
    {
     "data": {
      "image/png": "[encoded data removed]",
      "text/plain": [
       "<Figure size 432.125x360 with 1 Axes>"
      ]
     },
     "metadata": {
      "needs_background": "light"
     },
     "output_type": "display_data"
    }
   ],
   "source": [
    "sns.catplot(x='WorkEx',y='stock',data=df_edu[(df_edu.Education==\"Master's Degree\")\\\n",
    "                                           &(df_edu.WorkEx.str.contains(\"40\")==False)&(df_edu.gender!='Other')],\\\n",
    "                                            hue='gender',kind='bar')"
   ]
  },
  {
   "cell_type": "code",
   "execution_count": 84,
   "id": "961a2d7f",
   "metadata": {},
   "outputs": [
    {
     "data": {
      "text/html": [
       "<div>\n",
       "<style scoped>\n",
       "    .dataframe tbody tr th:only-of-type {\n",
       "        vertical-align: middle;\n",
       "    }\n",
       "\n",
       "    .dataframe tbody tr th {\n",
       "        vertical-align: top;\n",
       "    }\n",
       "\n",
       "    .dataframe thead tr th {\n",
       "        text-align: left;\n",
       "    }\n",
       "\n",
       "    .dataframe thead tr:last-of-type th {\n",
       "        text-align: right;\n",
       "    }\n",
       "</style>\n",
       "<table border=\"1\" class=\"dataframe\">\n",
       "  <thead>\n",
       "    <tr>\n",
       "      <th></th>\n",
       "      <th colspan=\"3\" halign=\"left\">base</th>\n",
       "      <th colspan=\"3\" halign=\"left\">stock</th>\n",
       "      <th>base_pct_diff</th>\n",
       "      <th>stock_pct_diff</th>\n",
       "    </tr>\n",
       "    <tr>\n",
       "      <th>gender</th>\n",
       "      <th>Female</th>\n",
       "      <th>Male</th>\n",
       "      <th>Other</th>\n",
       "      <th>Female</th>\n",
       "      <th>Male</th>\n",
       "      <th>Other</th>\n",
       "      <th></th>\n",
       "      <th></th>\n",
       "    </tr>\n",
       "    <tr>\n",
       "      <th>WorkEx</th>\n",
       "      <th></th>\n",
       "      <th></th>\n",
       "      <th></th>\n",
       "      <th></th>\n",
       "      <th></th>\n",
       "      <th></th>\n",
       "      <th></th>\n",
       "      <th></th>\n",
       "    </tr>\n",
       "  </thead>\n",
       "  <tbody>\n",
       "    <tr>\n",
       "      <th>0</th>\n",
       "      <td>123413.043478</td>\n",
       "      <td>118775.623269</td>\n",
       "      <td>120871.428571</td>\n",
       "      <td>25641.304348</td>\n",
       "      <td>22437.673130</td>\n",
       "      <td>23728.571429</td>\n",
       "      <td>-3.904354</td>\n",
       "      <td>-14.277912</td>\n",
       "    </tr>\n",
       "    <tr>\n",
       "      <th>1-5</th>\n",
       "      <td>135329.555472</td>\n",
       "      <td>137636.540601</td>\n",
       "      <td>140823.647295</td>\n",
       "      <td>33187.210380</td>\n",
       "      <td>35981.924360</td>\n",
       "      <td>36995.991984</td>\n",
       "      <td>1.676143</td>\n",
       "      <td>7.766994</td>\n",
       "    </tr>\n",
       "    <tr>\n",
       "      <th>6-10</th>\n",
       "      <td>159449.768161</td>\n",
       "      <td>164039.092496</td>\n",
       "      <td>174756.410256</td>\n",
       "      <td>50134.466770</td>\n",
       "      <td>66604.537522</td>\n",
       "      <td>74010.683761</td>\n",
       "      <td>2.797702</td>\n",
       "      <td>24.728151</td>\n",
       "    </tr>\n",
       "    <tr>\n",
       "      <th>11-15</th>\n",
       "      <td>172384.615385</td>\n",
       "      <td>180553.914328</td>\n",
       "      <td>188777.777778</td>\n",
       "      <td>73746.153846</td>\n",
       "      <td>86536.189069</td>\n",
       "      <td>91383.141762</td>\n",
       "      <td>4.524576</td>\n",
       "      <td>14.779984</td>\n",
       "    </tr>\n",
       "    <tr>\n",
       "      <th>16-20</th>\n",
       "      <td>189786.407767</td>\n",
       "      <td>193922.764228</td>\n",
       "      <td>202625.899281</td>\n",
       "      <td>90274.805825</td>\n",
       "      <td>107472.323848</td>\n",
       "      <td>110231.654676</td>\n",
       "      <td>2.132992</td>\n",
       "      <td>16.001811</td>\n",
       "    </tr>\n",
       "    <tr>\n",
       "      <th>21-30</th>\n",
       "      <td>198021.739130</td>\n",
       "      <td>201030.188679</td>\n",
       "      <td>204032.258065</td>\n",
       "      <td>115000.000000</td>\n",
       "      <td>116302.528302</td>\n",
       "      <td>107741.935484</td>\n",
       "      <td>1.496516</td>\n",
       "      <td>1.119948</td>\n",
       "    </tr>\n",
       "    <tr>\n",
       "      <th>31-40</th>\n",
       "      <td>185000.000000</td>\n",
       "      <td>192260.869565</td>\n",
       "      <td>203000.000000</td>\n",
       "      <td>318000.000000</td>\n",
       "      <td>45608.695652</td>\n",
       "      <td>27500.000000</td>\n",
       "      <td>3.776572</td>\n",
       "      <td>-597.235462</td>\n",
       "    </tr>\n",
       "    <tr>\n",
       "      <th>&gt;40</th>\n",
       "      <td>155000.000000</td>\n",
       "      <td>NaN</td>\n",
       "      <td>NaN</td>\n",
       "      <td>0.000000</td>\n",
       "      <td>NaN</td>\n",
       "      <td>NaN</td>\n",
       "      <td>NaN</td>\n",
       "      <td>NaN</td>\n",
       "    </tr>\n",
       "  </tbody>\n",
       "</table>\n",
       "</div>"
      ],
      "text/plain": [
       "                 base                                        stock  \\\n",
       "gender         Female           Male          Other         Female   \n",
       "WorkEx                                                               \n",
       "0       123413.043478  118775.623269  120871.428571   25641.304348   \n",
       "1-5     135329.555472  137636.540601  140823.647295   33187.210380   \n",
       "6-10    159449.768161  164039.092496  174756.410256   50134.466770   \n",
       "11-15   172384.615385  180553.914328  188777.777778   73746.153846   \n",
       "16-20   189786.407767  193922.764228  202625.899281   90274.805825   \n",
       "21-30   198021.739130  201030.188679  204032.258065  115000.000000   \n",
       "31-40   185000.000000  192260.869565  203000.000000  318000.000000   \n",
       ">40     155000.000000            NaN            NaN       0.000000   \n",
       "\n",
       "                                     base_pct_diff stock_pct_diff  \n",
       "gender           Male          Other                               \n",
       "WorkEx                                                             \n",
       "0        22437.673130   23728.571429     -3.904354     -14.277912  \n",
       "1-5      35981.924360   36995.991984      1.676143       7.766994  \n",
       "6-10     66604.537522   74010.683761      2.797702      24.728151  \n",
       "11-15    86536.189069   91383.141762      4.524576      14.779984  \n",
       "16-20   107472.323848  110231.654676      2.132992      16.001811  \n",
       "21-30   116302.528302  107741.935484      1.496516       1.119948  \n",
       "31-40    45608.695652   27500.000000      3.776572    -597.235462  \n",
       ">40               NaN            NaN           NaN            NaN  "
      ]
     },
     "execution_count": 84,
     "metadata": {},
     "output_type": "execute_result"
    }
   ],
   "source": [
    "#To find actual percent difference between Male and Female employees\n",
    "gender1 = df_edu[(df_edu.Education==\"Master's Degree\")].groupby(['WorkEx','gender'])[['stock','base']].mean()\n",
    "gender_salary = gender1.pivot_table(index='WorkEx',columns='gender')\n",
    "gender_salary['base_pct_diff'] = 100*(gender_salary[('base',   'Male')]-\\\n",
    "                                      gender_salary[('base', 'Female')])/gender_salary[('base',   'Male')]\n",
    "gender_salary['stock_pct_diff'] = 100*(gender_salary[('stock',   'Male')]-\\\n",
    "                                      gender_salary[('stock', 'Female')])/gender_salary[('stock',   'Male')]\n",
    "gender_salary"
   ]
  },
  {
   "cell_type": "code",
   "execution_count": 85,
   "id": "2d585f7a",
   "metadata": {},
   "outputs": [
    {
     "name": "stdout",
     "output_type": "stream",
     "text": [
      "Base Salary for men is 3.66 % higher than women\n",
      "Stock Grant Value for men is 19.75 % higher than women\n"
     ]
    }
   ],
   "source": [
    "#Calculating the mean base and stock difference between men and women for 6-20 years of Work Ex\n",
    "print (\"Base Salary for men is\",str(round(gender_salary.iloc[2:4].\\\n",
    "                                                     base_pct_diff.mean(), 2)),\"% higher than women\")\n",
    "print (\"Stock Grant Value for men is\",str(round(gender_salary.iloc[2:4].\\\n",
    "                                                     stock_pct_diff.mean(), 2)),\"% higher than women\")"
   ]
  },
  {
   "cell_type": "markdown",
   "id": "55a5cc1e",
   "metadata": {},
   "source": [
    "<div class=\"alert alert-block alert-danger\">\n",
    "Observation: Just comparing for Master’s degree, while difference in base salary is less than 5% throughout, men get 20% more stock on average after 5+ years of Work Experience levels.\n",
    "</ul></div>"
   ]
  },
  {
   "cell_type": "markdown",
   "id": "8b59b527",
   "metadata": {},
   "source": [
    "<div class=\"alert alert-block alert-success\">\n",
    "Managerial Insight 3: Stock component of salary causes the main bias. Women should start negotiating better on stocks.\n",
    "</div>"
   ]
  },
  {
   "cell_type": "markdown",
   "id": "1c2aaad5",
   "metadata": {},
   "source": [
    "### Finding 4: How does a career in Data Science look like?"
   ]
  },
  {
   "cell_type": "markdown",
   "id": "810f9bf0",
   "metadata": {},
   "source": [
    "Summary: To understand the Data Science career persepective better."
   ]
  },
  {
   "cell_type": "code",
   "execution_count": 86,
   "id": "b4e1d97a",
   "metadata": {},
   "outputs": [
    {
     "data": {
      "text/plain": [
       "<AxesSubplot:xlabel='region'>"
      ]
     },
     "execution_count": 86,
     "metadata": {},
     "output_type": "execute_result"
    },
    {
     "data": {
      "image/png": "[encoded data removed]",
      "text/plain": [
       "<Figure size 432x288 with 1 Axes>"
      ]
     },
     "metadata": {
      "needs_background": "light"
     },
     "output_type": "display_data"
    }
   ],
   "source": [
    "df_edu.groupby('region')[['salary','base','stock']].mean().plot(kind='bar')"
   ]
  },
  {
   "cell_type": "code",
   "execution_count": 87,
   "id": "71a8862d",
   "metadata": {},
   "outputs": [],
   "source": [
    "#To analyse big tech, creating a new col GAFAM which denotes Google, Amazon, Facebook, Apple and Microsoft\n",
    "df_edu['gafam'] = df_edu['company'].apply(lambda x: 1 if x in \\\n",
    "                                          ['Google', 'Amazon','Facebook', 'Apple', 'Microsoft'] else 0)"
   ]
  },
  {
   "cell_type": "code",
   "execution_count": 88,
   "id": "ab9a1828",
   "metadata": {
    "scrolled": true
   },
   "outputs": [],
   "source": [
    "df_gafam = df_edu[df_edu.gafam == 1]"
   ]
  },
  {
   "cell_type": "code",
   "execution_count": 89,
   "id": "320de7f2",
   "metadata": {},
   "outputs": [
    {
     "data": {
      "image/png": "[encoded data removed]",
      "text/plain": [
       "<Figure size 432x288 with 1 Axes>"
      ]
     },
     "metadata": {
      "needs_background": "light"
     },
     "output_type": "display_data"
    }
   ],
   "source": [
    "s1 = sns.countplot(x='company',data=df_gafam[df_gafam.Education==\"Master's Degree\"],color='darkblue')\n",
    "s2 = sns.countplot(x='company',data=df_gafam[df_gafam.Education==\"PhD\"],color='lightblue')"
   ]
  },
  {
   "cell_type": "code",
   "execution_count": 90,
   "id": "e6490863",
   "metadata": {},
   "outputs": [
    {
     "data": {
      "text/plain": [
       "<AxesSubplot:xlabel='company'>"
      ]
     },
     "execution_count": 90,
     "metadata": {},
     "output_type": "execute_result"
    },
    {
     "data": {
      "image/png": "[encoded data removed]",
      "text/plain": [
       "<Figure size 432x288 with 1 Axes>"
      ]
     },
     "metadata": {
      "needs_background": "light"
     },
     "output_type": "display_data"
    }
   ],
   "source": [
    "df_gafam.groupby('company')['salary'].mean().sort_values(ascending=False).plot(kind='bar')"
   ]
  },
  {
   "cell_type": "markdown",
   "id": "66e51eb8",
   "metadata": {},
   "source": [
    "<div class=\"alert alert-block alert-success\">\n",
    "More Insights: \n",
    "<ul>\n",
    "<li>Good News: We are in the right place to earn. Salaries in the West Coast are much higher than East Coast. Again, the difference comes from stocks</li>\n",
    "<li>While Google recruits more PhDs holders, all other major companies recruit more Master's holders.</li>\n",
    "<li>Decreasing order of Average Pay in big-tech: Facebook > Google > Apple > Amazon > MS</li>\n",
    "</ul>\n",
    "</div>"
   ]
  }
 ],
 "metadata": {
  "kernelspec": {
   "display_name": "Python 3",
   "language": "python",
   "name": "python3"
  },
  "language_info": {
   "codemirror_mode": {
    "name": "ipython",
    "version": 3
   },
   "file_extension": ".py",
   "mimetype": "text/x-python",
   "name": "python",
   "nbconvert_exporter": "python",
   "pygments_lexer": "ipython3",
   "version": "3.8.8"
  }
 },
 "nbformat": 4,
 "nbformat_minor": 5
}
